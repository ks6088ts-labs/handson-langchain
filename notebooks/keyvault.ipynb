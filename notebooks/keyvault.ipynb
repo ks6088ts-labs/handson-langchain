{
 "cells": [
  {
   "cell_type": "code",
   "execution_count": 1,
   "id": "123fe62b-c93c-4991-88b7-cfd3bbafa67a",
   "metadata": {},
   "outputs": [
    {
     "name": "stdin",
     "output_type": "stream",
     "text": [
      "Key Vault name: kv-r7a5whblfnou2\n"
     ]
    }
   ],
   "source": [
    "# https://learn.microsoft.com/ja-jp/azure/key-vault/secrets/quick-create-python?tabs=azure-cli\n",
    "from azure.keyvault.secrets import SecretClient\n",
    "from azure.identity import DefaultAzureCredential\n",
    "\n",
    "KEY_VAULT_NAME = input('Key Vault name:')\n",
    "\n",
    "KVUri = f\"https://{KEY_VAULT_NAME}.vault.azure.net\"\n",
    "\n",
    "credential = DefaultAzureCredential()\n",
    "client = SecretClient(vault_url=KVUri, credential=credential)"
   ]
  },
  {
   "cell_type": "code",
   "execution_count": 2,
   "id": "b54a6d5a-e1fb-4f52-b0ed-a9eaf04e40e9",
   "metadata": {},
   "outputs": [
    {
     "name": "stdin",
     "output_type": "stream",
     "text": [
      "Input a name for your secret >  test\n",
      "Input a value for your secret >  test\n"
     ]
    },
    {
     "name": "stdout",
     "output_type": "stream",
     "text": [
      "Creating a secret in kv-r7a5whblfnou2 called 'test' with the value 'test' ...\n",
      " done.\n",
      "Retrieving your secret from kv-r7a5whblfnou2.\n",
      "Your secret is 'test'.\n",
      "Deleting your secret from kv-r7a5whblfnou2 ...\n",
      " done.\n"
     ]
    }
   ],
   "source": [
    "secretName = input(\"Input a name for your secret > \")\n",
    "secretValue = input(\"Input a value for your secret > \")\n",
    "\n",
    "print(f\"Creating a secret in {KEY_VAULT_NAME} called '{secretName}' with the value '{secretValue}' ...\")\n",
    "\n",
    "client.set_secret(secretName, secretValue)\n",
    "\n",
    "print(\" done.\")\n",
    "\n",
    "print(f\"Retrieving your secret from {KEY_VAULT_NAME}.\")\n",
    "\n",
    "retrieved_secret = client.get_secret(secretName)\n",
    "\n",
    "print(f\"Your secret is '{retrieved_secret.value}'.\")\n",
    "print(f\"Deleting your secret from {KEY_VAULT_NAME} ...\")\n",
    "\n",
    "poller = client.begin_delete_secret(secretName)\n",
    "deleted_secret = poller.result()\n",
    "\n",
    "print(\" done.\")"
   ]
  }
 ],
 "metadata": {
  "kernelspec": {
   "display_name": "Python 3 (ipykernel)",
   "language": "python",
   "name": "python3"
  },
  "language_info": {
   "codemirror_mode": {
    "name": "ipython",
    "version": 3
   },
   "file_extension": ".py",
   "mimetype": "text/x-python",
   "name": "python",
   "nbconvert_exporter": "python",
   "pygments_lexer": "ipython3",
   "version": "3.10.7"
  }
 },
 "nbformat": 4,
 "nbformat_minor": 5
}
