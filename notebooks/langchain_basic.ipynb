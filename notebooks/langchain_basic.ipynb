{
 "cells": [
  {
   "cell_type": "code",
   "execution_count": 1,
   "id": "42bab11f-1e4b-4b23-b3e0-0678cab63c42",
   "metadata": {},
   "outputs": [
    {
     "data": {
      "text/plain": [
       "True"
      ]
     },
     "execution_count": 1,
     "metadata": {},
     "output_type": "execute_result"
    }
   ],
   "source": [
    "import os\n",
    "from dotenv import load_dotenv\n",
    "\n",
    "load_dotenv(\"./credentials.env\")"
   ]
  },
  {
   "cell_type": "markdown",
   "id": "c017bdf9-7f45-47c7-aa99-f10e2ca1f654",
   "metadata": {},
   "source": [
    "# [そろそろ知っておかないとヤバい？ 話題のLangChainを30分だけ触って理解しよう！](https://qiita.com/minorun365/items/081fc560e08f0197a7a8)"
   ]
  },
  {
   "cell_type": "code",
   "execution_count": 2,
   "id": "b214ec20-80ce-4897-8d34-fd356d5e0a6e",
   "metadata": {},
   "outputs": [],
   "source": [
    "# Chat model\n",
    "from langchain.chat_models import ChatOpenAI\n",
    "\n",
    "llm = ChatOpenAI(\n",
    "    model_name=os.getenv(\"OPENAI_MODEL_NAME\"),\n",
    "    openai_api_base=os.getenv(\"OPENAI_API_BASE\"),\n",
    "    openai_api_key=os.getenv(\"OPENAI_API_KEY\"),\n",
    "    temperature=0,\n",
    "    model_kwargs={\n",
    "        \"deployment_id\": os.getenv(\"OPENAI_DEPLOYMENT_ID\"),\n",
    "        \"api_type\": os.getenv(\"OPENAI_API_TYPE\"),\n",
    "        \"api_version\": os.getenv(\"OPENAI_API_VERSION\"),\n",
    "    },\n",
    ")"
   ]
  },
  {
   "cell_type": "code",
   "execution_count": 3,
   "id": "14199891-7ece-4ed4-91f1-ed60ba5c952f",
   "metadata": {},
   "outputs": [
    {
     "data": {
      "text/plain": [
       "AIMessage(content='2022年10月現在、日本の総理大臣は岸田文雄（きしだ ふみお）です。')"
      ]
     },
     "execution_count": 3,
     "metadata": {},
     "output_type": "execute_result"
    }
   ],
   "source": [
    "# Schema\n",
    "from langchain.schema import (\n",
    "    AIMessage,\n",
    "    HumanMessage,\n",
    "    SystemMessage,\n",
    ")\n",
    "\n",
    "input = [\n",
    "    HumanMessage(content=\"日本の総理大臣は誰ですか？\"),\n",
    "]\n",
    "\n",
    "llm.predict_messages(input)"
   ]
  },
  {
   "cell_type": "code",
   "execution_count": 4,
   "id": "0e14d716-6ba6-48da-b0b5-33fc3a19161d",
   "metadata": {},
   "outputs": [
    {
     "data": {
      "text/plain": [
       "'「Pythonの基礎をわかりやすく解説！初心者向けブログ」\\n「Python入門者必見！基礎から学ぶPython解説ブログ」\\n「Pythonの基礎をマスターしよう！解説ブログ」\\n「Python初心者のための基礎解説ブログ」\\n「Pythonの基礎を丁寧に解説！初心者向けブログ」'"
      ]
     },
     "execution_count": 4,
     "metadata": {},
     "output_type": "execute_result"
    }
   ],
   "source": [
    "# Prompt template\n",
    "from langchain.prompts import PromptTemplate\n",
    "\n",
    "template = PromptTemplate.from_template(\"{keyword} を解説するブログタイトル案は?\")\n",
    "prompt = template.format(keyword=\"Python の基礎\")\n",
    "\n",
    "llm.predict(prompt)"
   ]
  },
  {
   "cell_type": "code",
   "execution_count": 5,
   "id": "0c7ae358-2efd-4471-9cf0-e5f169022c3d",
   "metadata": {},
   "outputs": [
    {
     "data": {
      "text/plain": [
       "'「Azureの基礎をわかりやすく解説！初心者向けブログ」\\n「Azure入門！基礎知識から解説するブログ」\\n「Azureの基礎を徹底解説！初心者でもわかるブログ」\\n「Azureの基本を学ぶならこのブログ！初心者向け解説」\\n「Azureの基礎知識を網羅的に解説するブログ」'"
      ]
     },
     "execution_count": 5,
     "metadata": {},
     "output_type": "execute_result"
    }
   ],
   "source": [
    "prompt = template.format(keyword=\"Azure の基礎\")\n",
    "llm.predict(prompt)"
   ]
  },
  {
   "cell_type": "code",
   "execution_count": 6,
   "id": "8e753174-8360-4188-9d27-75b1788ae79a",
   "metadata": {},
   "outputs": [
    {
     "data": {
      "text/plain": [
       "'「AWSとは？クラウドコンピューティングの基礎を解説！」\\n「AWSの魅力とは？ビジネスにおける活用方法を解説！」\\n「AWSの主要サービスを徹底解説！初心者でもわかりやすく紹介します」\\n「AWSの利点とは？クラウドサービスのメリットを解説！」\\n「AWSのセキュリティ対策について解説！安心して利用するためのポイント」'"
      ]
     },
     "execution_count": 6,
     "metadata": {},
     "output_type": "execute_result"
    }
   ],
   "source": [
    "# Chain\n",
    "from langchain.chains import LLMChain\n",
    "\n",
    "chain = LLMChain(llm=llm, prompt=template)\n",
    "chain.run(\"AWS\")"
   ]
  },
  {
   "cell_type": "code",
   "execution_count": 7,
   "id": "a9bea418-33ce-45bb-a8d3-736d681d43a2",
   "metadata": {},
   "outputs": [
    {
     "name": "stdout",
     "output_type": "stream",
     "text": [
      "\n",
      "\n",
      "\u001b[1m> Entering new AgentExecutor chain...\u001b[0m\n",
      "\u001b[32;1m\u001b[1;3mI need to find the square root of 144.\n",
      "Action: Calculator\n",
      "Action Input: √144\u001b[0m\n",
      "Observation: \u001b[36;1m\u001b[1;3mAnswer: 12.0\u001b[0m\n",
      "Thought:\u001b[32;1m\u001b[1;3mI now know the final answer\n",
      "Final Answer: The square root of 144 is 12.\u001b[0m\n",
      "\n",
      "\u001b[1m> Finished chain.\u001b[0m\n"
     ]
    },
    {
     "data": {
      "text/plain": [
       "'The square root of 144 is 12.'"
      ]
     },
     "execution_count": 7,
     "metadata": {},
     "output_type": "execute_result"
    }
   ],
   "source": [
    "# Agent\n",
    "from langchain.agents import AgentType, initialize_agent, load_tools\n",
    "\n",
    "tools = load_tools([\"llm-math\"], llm=llm)\n",
    "\n",
    "agent = initialize_agent(tools, llm, agent=AgentType.ZERO_SHOT_REACT_DESCRIPTION, verbose=True)\n",
    "agent.run(\"144 の平方根はいくつ？\")"
   ]
  },
  {
   "cell_type": "code",
   "execution_count": 8,
   "id": "1f50fcb3-256a-46ae-abf0-cc4d3da72e7c",
   "metadata": {},
   "outputs": [
    {
     "name": "stdout",
     "output_type": "stream",
     "text": [
      "\n",
      "\n",
      "\u001b[1m> Entering new ConversationChain chain...\u001b[0m\n",
      "Prompt after formatting:\n",
      "\u001b[32;1m\u001b[1;3mThe following is a friendly conversation between a human and an AI. The AI is talkative and provides lots of specific details from its context. If the AI does not know the answer to a question, it truthfully says it does not know.\n",
      "\n",
      "Current conversation:\n",
      "\n",
      "Human: 私は日本人です。何を聞いても日本語で答えてください。\n",
      "AI:\u001b[0m\n",
      "\n",
      "\u001b[1m> Finished chain.\u001b[0m\n",
      "\n",
      "\n",
      "\u001b[1m> Entering new ConversationChain chain...\u001b[0m\n",
      "Prompt after formatting:\n",
      "\u001b[32;1m\u001b[1;3mThe following is a friendly conversation between a human and an AI. The AI is talkative and provides lots of specific details from its context. If the AI does not know the answer to a question, it truthfully says it does not know.\n",
      "\n",
      "Current conversation:\n",
      "Human: 私は日本人です。何を聞いても日本語で答えてください。\n",
      "AI: こんにちは！日本語でお答えします。どのような質問がありますか？\n",
      "Human: Who is the prime minister of Japan?\n",
      "AI:\u001b[0m\n",
      "\n",
      "\u001b[1m> Finished chain.\u001b[0m\n"
     ]
    },
    {
     "data": {
      "text/plain": [
       "'現在の日本の首相は菅義偉（すが・よしひで）です。彼は2020年9月に就任しました。'"
      ]
     },
     "execution_count": 8,
     "metadata": {},
     "output_type": "execute_result"
    }
   ],
   "source": [
    "# Memory\n",
    "from langchain import ConversationChain\n",
    "\n",
    "conversation = ConversationChain(llm=llm, verbose=True)\n",
    "\n",
    "conversation.run(\"私は日本人です。何を聞いても日本語で答えてください。\")\n",
    "conversation.run(\"Who is the prime minister of Japan?\")"
   ]
  },
  {
   "cell_type": "markdown",
   "id": "5530aa82-7c83-4d0a-9780-be48ab7f5135",
   "metadata": {},
   "source": [
    "[これを読んだらわかった気になれるLangChain\n",
    "](https://qiita.com/moritalous/items/7ceccbf809cc2f35ded2)"
   ]
  },
  {
   "cell_type": "code",
   "execution_count": 9,
   "id": "26ddbf99-00e6-4949-bd6a-258209d22550",
   "metadata": {},
   "outputs": [
    {
     "data": {
      "text/plain": [
       "AIMessage(content='I love programming.')"
      ]
     },
     "execution_count": 9,
     "metadata": {},
     "output_type": "execute_result"
    }
   ],
   "source": [
    "# Chat Prompt templates\n",
    "from langchain.prompts.chat import (\n",
    "    ChatPromptTemplate,\n",
    "    SystemMessagePromptTemplate,\n",
    "    HumanMessagePromptTemplate,\n",
    ")\n",
    "\n",
    "template = \"あなたは{input_language}から{output_language}に翻訳するのに役立つアシスタントです。\"\n",
    "system_message_prompt = SystemMessagePromptTemplate.from_template(template)\n",
    "human_template = \"{text}\"\n",
    "human_message_prompt = HumanMessagePromptTemplate.from_template(human_template)\n",
    "\n",
    "chat_prompt = ChatPromptTemplate.from_messages([\n",
    "    system_message_prompt,\n",
    "    human_message_prompt,\n",
    "])\n",
    "\n",
    "# get a chat completion from the formatted messages\n",
    "llm.predict_messages(chat_prompt.format_prompt(\n",
    "    input_language=\"Japanese\",\n",
    "    output_language=\"English\",\n",
    "    text=\"私はプログラミングが大好きです。\").to_messages())"
   ]
  },
  {
   "cell_type": "code",
   "execution_count": 10,
   "id": "4c0d8c1c-a4da-4d82-bd8f-23d25cd1c41f",
   "metadata": {},
   "outputs": [
    {
     "data": {
      "text/plain": [
       "AIMessage(content=\"J'adore la programmation.\")"
      ]
     },
     "execution_count": 10,
     "metadata": {},
     "output_type": "execute_result"
    }
   ],
   "source": [
    "llm.predict_messages(chat_prompt.format_prompt(\n",
    "    input_language=\"Japanese\",\n",
    "    output_language=\"French\",\n",
    "    text=\"私はプログラミングが大好きです。\").to_messages())"
   ]
  },
  {
   "cell_type": "code",
   "execution_count": null,
   "id": "440663fd-cdce-46ad-85a1-9529dfcb2379",
   "metadata": {},
   "outputs": [],
   "source": []
  }
 ],
 "metadata": {
  "kernelspec": {
   "display_name": "Python 3 (ipykernel)",
   "language": "python",
   "name": "python3"
  },
  "language_info": {
   "codemirror_mode": {
    "name": "ipython",
    "version": 3
   },
   "file_extension": ".py",
   "mimetype": "text/x-python",
   "name": "python",
   "nbconvert_exporter": "python",
   "pygments_lexer": "ipython3",
   "version": "3.10.7"
  }
 },
 "nbformat": 4,
 "nbformat_minor": 5
}
