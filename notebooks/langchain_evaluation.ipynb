{
 "cells": [
  {
   "cell_type": "code",
   "execution_count": 1,
   "id": "14672e0f-e6c8-4424-8371-a76753428487",
   "metadata": {},
   "outputs": [
    {
     "name": "stdin",
     "output_type": "stream",
     "text": [
      "OpenAI API Base: https://aoai-r7a5whblfnou2.openai.azure.com/\n",
      "OpenAI API Key: ········\n"
     ]
    }
   ],
   "source": [
    "import getpass\n",
    "\n",
    "OPENAI_MODEL_NAME = \"gpt-35-turbo\"\n",
    "OPENAI_DEPLOYMENT_ID = \"chat\"\n",
    "OPENAI_API_TYPE = \"azure\"\n",
    "OPENAI_API_VERSION = \"2023-09-01-preview\"\n",
    "\n",
    "# \"https://<your-endpoint.openai.azure.com/\"\n",
    "OPENAI_API_BASE = input('OpenAI API Base:')\n",
    "OPENAI_API_KEY = getpass.getpass('OpenAI API Key:')"
   ]
  },
  {
   "cell_type": "code",
   "execution_count": 2,
   "id": "9dcd0436-2ca0-41ec-a6bf-124069520941",
   "metadata": {},
   "outputs": [],
   "source": [
    "# Chat model\n",
    "from langchain.chat_models import ChatOpenAI\n",
    "\n",
    "llm = ChatOpenAI(\n",
    "    model_name=OPENAI_MODEL_NAME,\n",
    "    openai_api_base=OPENAI_API_BASE,\n",
    "    openai_api_key=OPENAI_API_KEY,\n",
    "    temperature=0,\n",
    "    model_kwargs={\n",
    "        \"deployment_id\": OPENAI_DEPLOYMENT_ID,\n",
    "        \"api_type\": OPENAI_API_TYPE,\n",
    "        \"api_version\": OPENAI_API_VERSION,\n",
    "    },\n",
    ")"
   ]
  },
  {
   "cell_type": "markdown",
   "id": "584c3f48-f674-48ae-afa2-514408f487f5",
   "metadata": {},
   "source": [
    "## [LangChain の評価機能を試す](https://note.com/npaka/n/nee310c6bd700)"
   ]
  },
  {
   "cell_type": "code",
   "execution_count": 3,
   "id": "ca74c168-3c51-4f6e-8802-6c301ffdb8af",
   "metadata": {},
   "outputs": [],
   "source": [
    "from langchain.prompts import PromptTemplate\n",
    "from langchain.chains import LLMChain\n",
    "from langchain.llms import OpenAI\n",
    "\n",
    "# 質問応答のプロンプトテンプレートの準備\n",
    "prompt = PromptTemplate(\n",
    "    template=\"Question: {question}\\nAnswer:\", \n",
    "    input_variables=[\"question\"]\n",
    ")\n",
    "\n",
    "# 質問応答のLLMチェーンの準備\n",
    "chain = LLMChain(\n",
    "    llm=llm, \n",
    "    prompt=prompt,\n",
    ")"
   ]
  },
  {
   "cell_type": "code",
   "execution_count": 4,
   "id": "3e3dd661-760a-4db1-863e-0486841c4219",
   "metadata": {},
   "outputs": [],
   "source": [
    "# 評価データセットの準備\n",
    "examples = [\n",
    "    {\n",
    "        \"question\": \"テニスボールが2ケースあります。1ケースにテニスボールが3個入っています。今何個のテニスボールを持っていますか？\",\n",
    "        \"answer\": \"6\"\n",
    "    },\n",
    "    {\n",
    "        \"question\": '次の文はもっともらしいですか？もっともらしくないですか？ \"カレーは飲み物\"',\n",
    "        \"answer\": \"もっともらしくない\"\n",
    "    }\n",
    "]"
   ]
  },
  {
   "cell_type": "code",
   "execution_count": 5,
   "id": "eb61768b-4340-4732-aafd-e3f20f4444d7",
   "metadata": {},
   "outputs": [
    {
     "data": {
      "text/plain": [
       "[{'text': '6個のテニスボールを持っています。'}, {'text': 'もっともらしくないです。'}]"
      ]
     },
     "execution_count": 5,
     "metadata": {},
     "output_type": "execute_result"
    }
   ],
   "source": [
    "# 予測\n",
    "predictions = chain.apply(examples)\n",
    "predictions"
   ]
  },
  {
   "cell_type": "code",
   "execution_count": 6,
   "id": "2877a6c5-5a4f-4bc0-84ae-792f99479716",
   "metadata": {},
   "outputs": [
    {
     "name": "stdout",
     "output_type": "stream",
     "text": [
      "[{'results': 'CORRECT'}, {'results': 'CORRECT'}]\n"
     ]
    }
   ],
   "source": [
    "from langchain.evaluation.qa import QAEvalChain\n",
    "\n",
    "# 言語モデルによる評価\n",
    "eval_chain = QAEvalChain.from_llm(\n",
    "    llm=llm,\n",
    ")\n",
    "graded_outputs = eval_chain.evaluate(\n",
    "    examples, \n",
    "    predictions, \n",
    "    question_key=\"question\", \n",
    "    prediction_key=\"text\"\n",
    ")\n",
    "print(graded_outputs)"
   ]
  },
  {
   "cell_type": "code",
   "execution_count": 7,
   "id": "026f89eb-5527-4c7b-afac-a796a19c82c8",
   "metadata": {},
   "outputs": [
    {
     "name": "stdout",
     "output_type": "stream",
     "text": [
      "Example 0:\n",
      "Question: テニスボールが2ケースあります。1ケースにテニスボールが3個入っています。今何個のテニスボールを持っていますか？\n",
      "Real Answer: 6\n",
      "Predicted Answer: 6個のテニスボールを持っています。\n",
      "Predicted Grade: CORRECT\n",
      "\n",
      "Example 1:\n",
      "Question: 次の文はもっともらしいですか？もっともらしくないですか？ \"カレーは飲み物\"\n",
      "Real Answer: もっともらしくない\n",
      "Predicted Answer: もっともらしくないです。\n",
      "Predicted Grade: CORRECT\n",
      "\n"
     ]
    }
   ],
   "source": [
    "# 結果を整形して出力\n",
    "for i, eg in enumerate(examples):\n",
    "    print(f\"Example {i}:\")\n",
    "    print(\"Question: \" + eg['question'])\n",
    "    print(\"Real Answer: \" + eg['answer'])\n",
    "    print(\"Predicted Answer: \" + predictions[i]['text'])\n",
    "    print(\"Predicted Grade: \" + graded_outputs[i]['results'])\n",
    "    print()"
   ]
  },
  {
   "cell_type": "code",
   "execution_count": null,
   "id": "47373b02-a133-4475-ac82-8e8733338601",
   "metadata": {},
   "outputs": [],
   "source": []
  }
 ],
 "metadata": {
  "kernelspec": {
   "display_name": "Python 3 (ipykernel)",
   "language": "python",
   "name": "python3"
  },
  "language_info": {
   "codemirror_mode": {
    "name": "ipython",
    "version": 3
   },
   "file_extension": ".py",
   "mimetype": "text/x-python",
   "name": "python",
   "nbconvert_exporter": "python",
   "pygments_lexer": "ipython3",
   "version": "3.10.7"
  }
 },
 "nbformat": 4,
 "nbformat_minor": 5
}
