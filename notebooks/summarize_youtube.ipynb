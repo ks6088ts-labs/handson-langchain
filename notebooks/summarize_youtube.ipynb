{
 "cells": [
  {
   "cell_type": "code",
   "execution_count": 1,
   "id": "36f596db-cc0d-44c2-a413-944cf464f06a",
   "metadata": {},
   "outputs": [
    {
     "data": {
      "text/plain": [
       "True"
      ]
     },
     "execution_count": 1,
     "metadata": {},
     "output_type": "execute_result"
    }
   ],
   "source": [
    "import os\n",
    "from dotenv import load_dotenv\n",
    "\n",
    "load_dotenv(\"./credentials.env\")"
   ]
  },
  {
   "cell_type": "code",
   "execution_count": 2,
   "id": "cf522c5d-c496-49d7-bb18-39ef778c561f",
   "metadata": {},
   "outputs": [],
   "source": [
    "# Chat model\n",
    "from langchain.chat_models import ChatOpenAI\n",
    "\n",
    "def get_llm():\n",
    "    return ChatOpenAI(\n",
    "        model_name=os.getenv(\"OPENAI_MODEL_NAME\"),\n",
    "        openai_api_base=os.getenv(\"OPENAI_API_BASE\"),\n",
    "        openai_api_key=os.getenv(\"OPENAI_API_KEY\"),\n",
    "        temperature=0,\n",
    "        model_kwargs={\n",
    "            \"deployment_id\": os.getenv(\"OPENAI_DEPLOYMENT_ID\"),\n",
    "            \"api_type\": os.getenv(\"OPENAI_API_TYPE\"),\n",
    "            \"api_version\": os.getenv(\"OPENAI_API_VERSION\"),\n",
    "        },\n",
    "    )"
   ]
  },
  {
   "cell_type": "code",
   "execution_count": 3,
   "id": "a59dac12-bc2f-4682-820c-b9fe9b8216a3",
   "metadata": {},
   "outputs": [],
   "source": [
    "from langchain.document_loaders import YoutubeLoader\n",
    "\n",
    "def load_documents(url):\n",
    "    return YoutubeLoader.from_youtube_url(\n",
    "        url,\n",
    "        add_video_info=True,\n",
    "        language=['en', 'ja']\n",
    "    ).load()"
   ]
  },
  {
   "cell_type": "code",
   "execution_count": 4,
   "id": "f53d73da-8218-4db9-92d5-2c6ed761690c",
   "metadata": {},
   "outputs": [],
   "source": [
    "from langchain.prompts import PromptTemplate\n",
    "from langchain.callbacks import get_openai_callback\n",
    "from langchain.chains.summarize import load_summarize_chain\n",
    "\n",
    "def summarize(docs, llm):\n",
    "    prompt_template = \"\"\"Write a concise Japanese summary of the following transcript of Youtube Video.\n",
    "        ============\n",
    "            \n",
    "        {text}\n",
    "        \n",
    "        ============\n",
    "        \n",
    "        日本語で 500 文字以内で要約した結果は以下の通りです。\n",
    "    \"\"\"\n",
    "    \n",
    "    with get_openai_callback() as cb:\n",
    "        chain = load_summarize_chain( \n",
    "            llm,\n",
    "            chain_type=\"stuff\",\n",
    "            verbose=False,\n",
    "            prompt=PromptTemplate(template=prompt_template, input_variables=[\"text\"])\n",
    "        )\n",
    "        response = chain({\"input_documents\": docs}, return_only_outputs=True)\n",
    "    return response['output_text'], cb.total_cost"
   ]
  },
  {
   "cell_type": "code",
   "execution_count": 5,
   "id": "948637c7-e654-4cc3-a1be-1357720ea192",
   "metadata": {},
   "outputs": [],
   "source": [
    "url = \"https://www.youtube.com/watch?v=FZhbJZEgKQ4\""
   ]
  },
  {
   "cell_type": "code",
   "execution_count": 6,
   "id": "fa649f67-3c84-46fc-bbe5-a0bf93e76910",
   "metadata": {},
   "outputs": [],
   "source": [
    "llm = get_llm()\n",
    "docs = load_documents(url=url)\n",
    "output, cost = summarize(docs, llm)"
   ]
  },
  {
   "cell_type": "code",
   "execution_count": 7,
   "id": "fe7c416f-f855-4e86-8d26-c32a33e7c8ee",
   "metadata": {},
   "outputs": [
    {
     "data": {
      "text/plain": [
       "('このYouTubeビデオの要約は次の通りです。マイクロソフトはAIを活用して、人々の仕事や生活を効率化し、革新をもたらすことを目指しています。マイクロソフトのCopilotは、自然言語処理を活用して、開発者やビジネスパーソンが作業を効率化するための支援を行います。Copilotは、様々な業界や役割において活用され、個別のニーズに合わせてカスタマイズすることができます。また、CopilotはAIと量子コンピューティングの融合により、科学的な発見や革新を加速することも可能です。マイクロソフトは、Copilotを通じて、すべての人々と組織がより効果的に働き、成長することを目指しています。',\n",
       " 0.031767000000000004)"
      ]
     },
     "execution_count": 7,
     "metadata": {},
     "output_type": "execute_result"
    }
   ],
   "source": [
    "output, cost"
   ]
  },
  {
   "cell_type": "code",
   "execution_count": 8,
   "id": "8e733251-4c98-438a-af26-2269f90d237d",
   "metadata": {},
   "outputs": [],
   "source": [
    "# https://python.langchain.com/docs/modules/data_connection/document_transformers/text_splitters/recursive_text_splitter\n",
    "from langchain.text_splitter import RecursiveCharacterTextSplitter\n",
    "from langchain.docstore.document import Document\n",
    "\n",
    "assert docs[0].page_content is not None\n",
    "transcript_text = docs[0].page_content\n",
    "\n",
    "def split_docs(text:str)-> [Document]:\n",
    "    text_splitter = RecursiveCharacterTextSplitter(\n",
    "        separators=[\"\\n\\n\", \"\\n\", \" \", \"\", \"。\", \"!\", \"！\", \"?\", \"？\"],\n",
    "        chunk_size = 15000,\n",
    "        chunk_overlap = 20,\n",
    "        length_function = len,\n",
    "        is_separator_regex = False,\n",
    "    )\n",
    "    \n",
    "    texts = text_splitter.split_text(transcript_text)\n",
    "    print(f\"splitted to {len(texts)} chunks\")\n",
    "    return [Document(page_content=t) for t in texts]"
   ]
  },
  {
   "cell_type": "code",
   "execution_count": 9,
   "id": "70a1da3d-3888-45ca-85e0-be9e93e6784b",
   "metadata": {},
   "outputs": [],
   "source": [
    "def summarize_documents(docs:[Document]):\n",
    "    template = \"\"\"Write a concise Japanese summary of the following transcript of Youtube Video.\n",
    "        ============\n",
    "            \n",
    "        {text}\n",
    "        \n",
    "        ============\n",
    "        \n",
    "        日本語で 500 文字以内で要約した結果は以下の通りです。\n",
    "    \"\"\"\n",
    "    prompt_template = PromptTemplate(template=template, input_variables=[\"text\"])\n",
    "\n",
    "    with get_openai_callback() as cb:\n",
    "        chain = load_summarize_chain(\n",
    "            llm=llm,\n",
    "            chain_type=\"map_reduce\",\n",
    "            map_prompt=prompt_template,\n",
    "            combine_prompt=prompt_template,\n",
    "            collapse_prompt=prompt_template,\n",
    "            verbose=False,\n",
    "        )\n",
    "\n",
    "        output = chain(\n",
    "            inputs=docs,\n",
    "            return_only_outputs=True,\n",
    "        )[\"output_text\"]\n",
    "    return output, cb.total_cost"
   ]
  },
  {
   "cell_type": "code",
   "execution_count": 10,
   "id": "96cc2fb7-770f-47e2-997b-c26c33b36fba",
   "metadata": {},
   "outputs": [
    {
     "data": {
      "text/plain": [
       "1"
      ]
     },
     "execution_count": 10,
     "metadata": {},
     "output_type": "execute_result"
    }
   ],
   "source": [
    "len(docs)"
   ]
  },
  {
   "cell_type": "code",
   "execution_count": 11,
   "id": "5f52c296-9c05-4f5e-838a-8f40d5ca1dc4",
   "metadata": {},
   "outputs": [
    {
     "name": "stdout",
     "output_type": "stream",
     "text": [
      "text length 48532\n"
     ]
    }
   ],
   "source": [
    "assert docs[0].page_content is not None\n",
    "text = docs[0].page_content\n",
    "print(f\"text length {len(text)}\")"
   ]
  },
  {
   "cell_type": "code",
   "execution_count": 12,
   "id": "95178880-3f05-4d59-90c6-55d9dce46e56",
   "metadata": {},
   "outputs": [
    {
     "name": "stdout",
     "output_type": "stream",
     "text": [
      "splitted to 4 chunks\n"
     ]
    },
    {
     "name": "stderr",
     "output_type": "stream",
     "text": [
      "Warning: model not found. Using cl100k_base encoding.\n",
      "Warning: model not found. Using cl100k_base encoding.\n",
      "Warning: model not found. Using cl100k_base encoding.\n",
      "Warning: model not found. Using cl100k_base encoding.\n",
      "Warning: model not found. Using cl100k_base encoding.\n",
      "Warning: model not found. Using cl100k_base encoding.\n"
     ]
    },
    {
     "name": "stdout",
     "output_type": "stream",
     "text": [
      "このYouTubeビデオのトランスクリプトでは、MicrosoftがAIの進化によって新たな時代が訪れることを伝えています。MicrosoftはAIのインフラストラクチャやモデル、データ、ツールチェーンなどで100以上のアップデートを発表し、OpenAIとのパートナーシップを通じて最新のAIモデルを提供しています。また、Microsoftはオープンソースにも取り組んでおり、Azureに「モデルとしてのサービス」オファリングを追加し、NVIDIAとのパートナーシップを拡大しています。さらに、Microsoft Fabricはデータの取り扱い方を再設計し、Azure Quantum Elementsを使用して化学物質を生成する方法を説明しています。量子要素を使用することで、持続可能な化学物質や薬品、先進材料、バッテリーのための新しい分子を設計することができます。最終的には、Copilotを使用して、8億人の人々がパーソナライズされたチューターや医師、メンターにアクセスできるようにすることが目標です。AIは障害を持つ人々の生活にポジティブな影響を与える可能性があります。, 0.06287100000000001\n"
     ]
    }
   ],
   "source": [
    "_docs = split_docs(text)\n",
    "output, total_cost = summarize_documents(_docs)\n",
    "print(f\"{output}, {total_cost}\")"
   ]
  }
 ],
 "metadata": {
  "kernelspec": {
   "display_name": "Python 3 (ipykernel)",
   "language": "python",
   "name": "python3"
  },
  "language_info": {
   "codemirror_mode": {
    "name": "ipython",
    "version": 3
   },
   "file_extension": ".py",
   "mimetype": "text/x-python",
   "name": "python",
   "nbconvert_exporter": "python",
   "pygments_lexer": "ipython3",
   "version": "3.10.7"
  }
 },
 "nbformat": 4,
 "nbformat_minor": 5
}
