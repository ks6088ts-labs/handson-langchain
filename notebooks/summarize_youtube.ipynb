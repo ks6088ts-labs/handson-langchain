{
 "cells": [
  {
   "cell_type": "code",
   "execution_count": 1,
   "id": "36f596db-cc0d-44c2-a413-944cf464f06a",
   "metadata": {},
   "outputs": [
    {
     "data": {
      "text/plain": [
       "True"
      ]
     },
     "execution_count": 1,
     "metadata": {},
     "output_type": "execute_result"
    }
   ],
   "source": [
    "import os\n",
    "from dotenv import load_dotenv\n",
    "\n",
    "load_dotenv(\"./credentials.env\")"
   ]
  },
  {
   "cell_type": "code",
   "execution_count": 2,
   "id": "cf522c5d-c496-49d7-bb18-39ef778c561f",
   "metadata": {},
   "outputs": [],
   "source": [
    "# Chat model\n",
    "from langchain.chat_models import ChatOpenAI\n",
    "\n",
    "llm = ChatOpenAI(\n",
    "    model_name=os.getenv(\"OPENAI_MODEL_NAME\"),\n",
    "    openai_api_base=os.getenv(\"OPENAI_API_BASE\"),\n",
    "    openai_api_key=os.getenv(\"OPENAI_API_KEY\"),\n",
    "    temperature=0,\n",
    "    model_kwargs={\n",
    "        \"deployment_id\": os.getenv(\"OPENAI_DEPLOYMENT_ID\"),\n",
    "        \"api_type\": os.getenv(\"OPENAI_API_TYPE\"),\n",
    "        \"api_version\": os.getenv(\"OPENAI_API_VERSION\"),\n",
    "    },\n",
    ")"
   ]
  },
  {
   "cell_type": "code",
   "execution_count": 3,
   "id": "a59dac12-bc2f-4682-820c-b9fe9b8216a3",
   "metadata": {},
   "outputs": [],
   "source": [
    "from langchain.document_loaders import YoutubeLoader\n",
    "\n",
    "def load_documents(url):\n",
    "    return YoutubeLoader.from_youtube_url(\n",
    "        url,\n",
    "        add_video_info=True,\n",
    "        language=['en', 'ja']\n",
    "    ).load()"
   ]
  },
  {
   "cell_type": "code",
   "execution_count": 4,
   "id": "f53d73da-8218-4db9-92d5-2c6ed761690c",
   "metadata": {},
   "outputs": [],
   "source": [
    "from langchain.prompts import PromptTemplate\n",
    "from langchain.callbacks import get_openai_callback\n",
    "from langchain.chains.summarize import load_summarize_chain\n",
    "\n",
    "PROMPT_TEMPLATE = \"\"\"Write a concise Japanese summary of the following transcript of Youtube Video.\n",
    "============\n",
    "    \n",
    "{text}\n",
    "\n",
    "============\n",
    "\n",
    "日本語で 500 文字以内で要約した結果は以下の通りです。\n",
    "\"\"\"\n",
    "\n",
    "def summarize(docs, prompt_template=PROMPT_TEMPLATE):\n",
    "    PROMPT = PromptTemplate(template=prompt_template, input_variables=[\"text\"])\n",
    "    \n",
    "    with get_openai_callback() as cb:\n",
    "        chain = load_summarize_chain( \n",
    "            llm,\n",
    "            chain_type=\"stuff\",\n",
    "            verbose=False,\n",
    "            prompt=PROMPT\n",
    "        )\n",
    "        response = chain({\"input_documents\": docs}, return_only_outputs=True)\n",
    "    return response['output_text'], cb.total_cost"
   ]
  },
  {
   "cell_type": "code",
   "execution_count": 5,
   "id": "948637c7-e654-4cc3-a1be-1357720ea192",
   "metadata": {},
   "outputs": [],
   "source": [
    "url = \"https://www.youtube.com/watch?v=FZhbJZEgKQ4\""
   ]
  },
  {
   "cell_type": "code",
   "execution_count": 6,
   "id": "fa649f67-3c84-46fc-bbe5-a0bf93e76910",
   "metadata": {},
   "outputs": [],
   "source": [
    "docs = load_documents(url=url)\n",
    "output, cost = summarize(docs)"
   ]
  },
  {
   "cell_type": "code",
   "execution_count": 7,
   "id": "fe7c416f-f855-4e86-8d26-c32a33e7c8ee",
   "metadata": {},
   "outputs": [
    {
     "data": {
      "text/plain": [
       "('この動画の要約は、AIと混合現実、およびAIと量子コンピューティングの分野での革新に焦点を当てています。Microsoft Copilotは、人々が仕事や学習をより効果的に行うためのコパイロットとしての役割を果たします。Copilotは、検索、開発、顧客サービスなど、さまざまな役割とビジネス機能にわたって拡張されています。また、Copilot Studioを使用することで、組織固有のニーズに合わせてカスタマイズすることも可能です。さらに、AIと量子コンピューティングの組み合わせにより、科学的な発見や複雑なシミュレーションの高速化が可能になります。最終的には、AIを通じて、個々の人や組織がより能力を発揮し、より良い未来を築くことができるという使命を持っています。',\n",
       " 0.031907)"
      ]
     },
     "execution_count": 7,
     "metadata": {},
     "output_type": "execute_result"
    }
   ],
   "source": [
    "output, cost"
   ]
  },
  {
   "cell_type": "code",
   "execution_count": null,
   "id": "30a05064-8029-4059-81b0-6f0a0d24b14c",
   "metadata": {},
   "outputs": [],
   "source": []
  }
 ],
 "metadata": {
  "kernelspec": {
   "display_name": "Python 3 (ipykernel)",
   "language": "python",
   "name": "python3"
  },
  "language_info": {
   "codemirror_mode": {
    "name": "ipython",
    "version": 3
   },
   "file_extension": ".py",
   "mimetype": "text/x-python",
   "name": "python",
   "nbconvert_exporter": "python",
   "pygments_lexer": "ipython3",
   "version": "3.10.7"
  }
 },
 "nbformat": 4,
 "nbformat_minor": 5
}
