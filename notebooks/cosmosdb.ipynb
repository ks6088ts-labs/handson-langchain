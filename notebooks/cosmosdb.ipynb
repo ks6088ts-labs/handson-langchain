{
 "cells": [
  {
   "cell_type": "code",
   "execution_count": 4,
   "id": "5211bdc1-d36a-47f4-8af6-feadaa656ee3",
   "metadata": {},
   "outputs": [
    {
     "data": {
      "text/plain": [
       "True"
      ]
     },
     "execution_count": 4,
     "metadata": {},
     "output_type": "execute_result"
    }
   ],
   "source": [
    "import os\n",
    "from dotenv import load_dotenv\n",
    "\n",
    "load_dotenv(\"./credentials.env\")"
   ]
  },
  {
   "cell_type": "code",
   "execution_count": 5,
   "id": "37ec0d53-b874-468d-a5e0-9b9a8a36b53c",
   "metadata": {},
   "outputs": [],
   "source": [
    "from azure.cosmos import exceptions, CosmosClient, PartitionKey\n",
    "\n",
    "# Create the client to interact with the Azure Cosmos DB resource\n",
    "client = CosmosClient(os.getenv(\"COSMOSDB_ENDPOINT\"), os.getenv(\"COSMOSDB_KEY\"))"
   ]
  },
  {
   "cell_type": "code",
   "execution_count": 6,
   "id": "9847297b-0cae-46a6-8824-ee753896ea10",
   "metadata": {},
   "outputs": [
    {
     "name": "stdout",
     "output_type": "stream",
     "text": [
      "Database created: VectorSearchTutorial\n"
     ]
    }
   ],
   "source": [
    "# Create a database in Azure Cosmos DB.\n",
    "try:\n",
    "    database = client.create_database_if_not_exists(id=\"VectorSearchTutorial\")\n",
    "    print(f\"Database created: {database.id}\")\n",
    "\n",
    "except exceptions.CosmosResourceExistsError:\n",
    "    print(\"Database already exists.\")"
   ]
  },
  {
   "cell_type": "code",
   "execution_count": 7,
   "id": "60462c63-7e5e-4ff5-bd50-12aef02e0cc3",
   "metadata": {},
   "outputs": [
    {
     "name": "stdout",
     "output_type": "stream",
     "text": [
      "Container created: AzureServices\n"
     ]
    }
   ],
   "source": [
    "# Create a container in Azure Cosmos DB.\n",
    "try:\n",
    "    partition_key_path = PartitionKey(path=\"/id\")\n",
    "    container = database.create_container_if_not_exists(\n",
    "        id=\"AzureServices\",\n",
    "        partition_key=partition_key_path,\n",
    "        offer_throughput=400,\n",
    "    )\n",
    "    print(f\"Container created: {container.id}\")\n",
    "\n",
    "except exceptions.CosmosResourceExistsError:\n",
    "    print(\"Container already exists.\")"
   ]
  },
  {
   "cell_type": "code",
   "execution_count": 8,
   "id": "39c2d9ee-5ae8-47cd-b279-75658e78c6da",
   "metadata": {},
   "outputs": [],
   "source": [
    "import json\n",
    "\n",
    "# Load text-sample.json data file\n",
    "# https://raw.githubusercontent.com/microsoft/AzureDataRetrievalAugmentedGenerationSamples/main/DataSet/AzureServices/text-sample.json\n",
    "data_file = open(file=\"./text-sample.json\", mode=\"r\")\n",
    "#data_file = open(file=\"../../DataSet/AzureServices/text-sample_w_embeddings.json\", mode=\"r\") # load this file instead if embeddings were previously created and saved.\n",
    "data = json.load(data_file)\n",
    "data_file.close()"
   ]
  },
  {
   "cell_type": "code",
   "execution_count": 9,
   "id": "5ac8f84e-a931-462c-964a-222bfdc8ac9a",
   "metadata": {},
   "outputs": [],
   "source": [
    "# Create data items for every entry in the dataset, insert them into the database and collection specified above.\n",
    "for data_item in data:\n",
    "    try:\n",
    "        container.create_item(body=data_item)\n",
    "    \n",
    "    except exceptions.CosmosResourceExistsError:\n",
    "        print(\"Data item already exists.\")"
   ]
  },
  {
   "cell_type": "code",
   "execution_count": null,
   "id": "c3a74cf6-ac6e-4d13-a00c-d8ffa0882e50",
   "metadata": {},
   "outputs": [],
   "source": []
  }
 ],
 "metadata": {
  "kernelspec": {
   "display_name": "Python 3 (ipykernel)",
   "language": "python",
   "name": "python3"
  },
  "language_info": {
   "codemirror_mode": {
    "name": "ipython",
    "version": 3
   },
   "file_extension": ".py",
   "mimetype": "text/x-python",
   "name": "python",
   "nbconvert_exporter": "python",
   "pygments_lexer": "ipython3",
   "version": "3.10.7"
  }
 },
 "nbformat": 4,
 "nbformat_minor": 5
}
