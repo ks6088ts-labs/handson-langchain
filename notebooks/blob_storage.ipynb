{
 "cells": [
  {
   "cell_type": "code",
   "execution_count": 1,
   "metadata": {},
   "outputs": [
    {
     "data": {
      "text/plain": [
       "True"
      ]
     },
     "execution_count": 1,
     "metadata": {},
     "output_type": "execute_result"
    }
   ],
   "source": [
    "import os\n",
    "from dotenv import load_dotenv\n",
    "\n",
    "load_dotenv(\"./credentials.env\")"
   ]
  },
  {
   "cell_type": "code",
   "execution_count": 2,
   "metadata": {},
   "outputs": [],
   "source": [
    "# Azure Blob Storage File: https://python.langchain.com/docs/integrations/document_loaders/azure_blob_storage_file\n",
    "from langchain.document_loaders import AzureBlobStorageFileLoader\n",
    "\n",
    "file_loader = AzureBlobStorageFileLoader(\n",
    "    conn_str=os.getenv(\"BLOB_STORAGE_CONNECTION_STRING\"),\n",
    "    container=os.getenv(\"BLOB_STORAGE_CONTAINER_NAME\"),\n",
    "    blob_name=os.getenv(\"BLOB_STORAGE_BLOB_NAME\"),\n",
    ")\n",
    "\n",
    "document = file_loader.load()"
   ]
  },
  {
   "cell_type": "code",
   "execution_count": 3,
   "metadata": {},
   "outputs": [],
   "source": [
    "# https://python.langchain.com/docs/integrations/document_loaders/azure_blob_storage_container\n",
    "from langchain.document_loaders import AzureBlobStorageContainerLoader\n",
    "\n",
    "container_loader = AzureBlobStorageContainerLoader(\n",
    "    conn_str=os.getenv(\"BLOB_STORAGE_CONNECTION_STRING\"),\n",
    "    container=os.getenv(\"BLOB_STORAGE_CONTAINER_NAME\"),\n",
    ")\n",
    "\n",
    "document = container_loader.load()"
   ]
  },
  {
   "cell_type": "code",
   "execution_count": null,
   "metadata": {},
   "outputs": [],
   "source": []
  }
 ],
 "metadata": {
  "kernelspec": {
   "display_name": ".venv",
   "language": "python",
   "name": "python3"
  },
  "language_info": {
   "codemirror_mode": {
    "name": "ipython",
    "version": 3
   },
   "file_extension": ".py",
   "mimetype": "text/x-python",
   "name": "python",
   "nbconvert_exporter": "python",
   "pygments_lexer": "ipython3",
   "version": "3.10.7"
  }
 },
 "nbformat": 4,
 "nbformat_minor": 2
}
