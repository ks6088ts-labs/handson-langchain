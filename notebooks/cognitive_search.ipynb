{
 "cells": [
  {
   "cell_type": "code",
   "execution_count": 1,
   "id": "843b5d31-2adb-4d83-904f-b84a261a8f62",
   "metadata": {},
   "outputs": [
    {
     "data": {
      "text/plain": [
       "True"
      ]
     },
     "execution_count": 1,
     "metadata": {},
     "output_type": "execute_result"
    }
   ],
   "source": [
    "# https://python.langchain.com/docs/integrations/vectorstores/azuresearch\n",
    "import openai\n",
    "from langchain.embeddings import OpenAIEmbeddings\n",
    "from langchain.vectorstores.azuresearch import AzureSearch\n",
    "\n",
    "\n",
    "import os\n",
    "from dotenv import load_dotenv\n",
    "\n",
    "load_dotenv(\"./credentials.env\")"
   ]
  },
  {
   "cell_type": "code",
   "execution_count": 2,
   "id": "1bbeab50-5220-44c6-8423-9a780627477a",
   "metadata": {},
   "outputs": [],
   "source": [
    "embeddings: OpenAIEmbeddings = OpenAIEmbeddings(\n",
    "    model=os.getenv(\"OPENAI_API_EMBEDDING_MODEL\"),\n",
    "    deployment=os.getenv(\"OPENAI_API_EMBEDDING_DEPLOYMENT_ID\"),\n",
    "    openai_api_version=os.getenv(\"OPENAI_API_VERSION\"),\n",
    "    openai_api_base=os.getenv(\"OPENAI_API_BASE\"),\n",
    "    openai_api_type=os.getenv(\"OPENAI_API_TYPE\"),\n",
    "    openai_api_key=os.getenv(\"OPENAI_API_KEY\"),\n",
    "    chunk_size=1\n",
    ")\n",
    "\n",
    "index_name: str = \"langchain-vector-demo\"\n",
    "vector_store: AzureSearch = AzureSearch(\n",
    "    azure_search_endpoint=os.getenv(\"COGNITIVE_SEARCH_API_BASE\"),\n",
    "    azure_search_key=os.getenv(\"COGNITIVE_SEARCH_API_KEY\"),\n",
    "    index_name=index_name,\n",
    "    embedding_function=embeddings.embed_query,\n",
    ")"
   ]
  },
  {
   "cell_type": "code",
   "execution_count": 3,
   "id": "4bcd0a80-1076-4046-9b2b-f7d157898dbc",
   "metadata": {},
   "outputs": [
    {
     "name": "stderr",
     "output_type": "stream",
     "text": [
      "Retrying langchain.embeddings.openai.embed_with_retry.<locals>._embed_with_retry in 4.0 seconds as it raised RateLimitError: Requests to the Embeddings_Create Operation under Azure OpenAI API version 2023-09-01-preview have exceeded call rate limit of your current OpenAI S0 pricing tier. Please retry after 9 seconds. Please go here: https://aka.ms/oai/quotaincrease if you would like to further increase the default rate limit..\n",
      "Retrying langchain.embeddings.openai.embed_with_retry.<locals>._embed_with_retry in 4.0 seconds as it raised RateLimitError: Requests to the Embeddings_Create Operation under Azure OpenAI API version 2023-09-01-preview have exceeded call rate limit of your current OpenAI S0 pricing tier. Please retry after 5 seconds. Please go here: https://aka.ms/oai/quotaincrease if you would like to further increase the default rate limit..\n",
      "Retrying langchain.embeddings.openai.embed_with_retry.<locals>._embed_with_retry in 4.0 seconds as it raised RateLimitError: Requests to the Embeddings_Create Operation under Azure OpenAI API version 2023-09-01-preview have exceeded call rate limit of your current OpenAI S0 pricing tier. Please retry after 1 second. Please go here: https://aka.ms/oai/quotaincrease if you would like to further increase the default rate limit..\n",
      "Retrying langchain.embeddings.openai.embed_with_retry.<locals>._embed_with_retry in 4.0 seconds as it raised RateLimitError: Requests to the Embeddings_Create Operation under Azure OpenAI API version 2023-09-01-preview have exceeded call rate limit of your current OpenAI S0 pricing tier. Please retry after 9 seconds. Please go here: https://aka.ms/oai/quotaincrease if you would like to further increase the default rate limit..\n",
      "Retrying langchain.embeddings.openai.embed_with_retry.<locals>._embed_with_retry in 4.0 seconds as it raised RateLimitError: Requests to the Embeddings_Create Operation under Azure OpenAI API version 2023-09-01-preview have exceeded call rate limit of your current OpenAI S0 pricing tier. Please retry after 5 seconds. Please go here: https://aka.ms/oai/quotaincrease if you would like to further increase the default rate limit..\n",
      "Retrying langchain.embeddings.openai.embed_with_retry.<locals>._embed_with_retry in 4.0 seconds as it raised RateLimitError: Requests to the Embeddings_Create Operation under Azure OpenAI API version 2023-09-01-preview have exceeded call rate limit of your current OpenAI S0 pricing tier. Please retry after 1 second. Please go here: https://aka.ms/oai/quotaincrease if you would like to further increase the default rate limit..\n"
     ]
    },
    {
     "data": {
      "text/plain": [
       "['YmIwZmIxN2ItZjY3Mi00YzEzLWJjNjYtZDM0NmVlNGY0ZTlh',\n",
       " 'ODE3MTI4NjQtZDYxMS00ZTc1LThlY2YtZmUyNDg0YzJkYjlk',\n",
       " 'NTU3MDJhZjgtNmMzMi00MDY2LWIxZGQtNzk1YjE4NGJiOTRm',\n",
       " 'YzRmYWI3Y2ItMzQ4Zi00ZDcxLWE5MGQtM2NkOTIxNTQzNDA4',\n",
       " 'ODgyYjRhN2MtYmZlMS00OTNkLWEzMGYtYTJhZmI3ZmE3ZDU3',\n",
       " 'YmU1MzVjNTQtODdiOC00MDE1LWJjNjktM2JiNWYxNTUyODUx',\n",
       " 'NWJmYTlhNjAtZDUzNi00OTJmLTk2MmItZDI0OGRmNmM0M2Rl',\n",
       " 'M2M5NzkwN2YtMTAyNi00ZDMwLWI4NmYtNzVlNjYyMDQwYTk4',\n",
       " 'NTMxYTc0NDEtZmE3YS00MTNjLThkZDUtYzQwMWQ4ZTIyMTFl',\n",
       " 'NTcxMzJkMTgtYzA4OS00YjAwLTk5NzUtZjlhZTU1MDEwN2Y1',\n",
       " 'MzY5Zjc0MjUtN2QyNS00OTJlLWEyOWYtZTRiYTRmOTg5Yjc3',\n",
       " 'MTc5ZDc2ZjEtZGIzNy00NTAyLWI2N2QtNDdkZTI0ODAyZGY4',\n",
       " 'ODc4ZDU1ZmYtZTY0ZC00YmNjLThjMmItMjE0ZGM2ODFlYzdl',\n",
       " 'MmU4ZTZhMjgtZjViMy00NGY0LThmYjctZjFmYTBiNDM5N2E3',\n",
       " 'OTY2NDg4MjQtNzEyYS00MDlhLTlhYjItODM0ZDM0NmJjMmNl',\n",
       " 'N2JhNzVlZmQtN2YxYy00MGVlLWExOWQtOTEzYWI1N2M3MTc5',\n",
       " 'ZTY0OTRhZDctZWM4NS00ZjFmLWFiMTEtZWExMmI0MTJlZGU1',\n",
       " 'M2M3ODkyNGQtYzA5ZS00MGY4LWE4MjUtYmJmZmJiZTlhNzUw',\n",
       " 'NmNkYTEzOTAtZWI2Yi00Mjg2LTkxMWEtYTNmYjgyYTg0ODll',\n",
       " 'ZjVlNTFiN2YtZWU1Ni00ZTJiLWFhMzgtZDRmYzNiNzBjN2Ez',\n",
       " 'NDBkYjg0ZjgtMGNhOC00OGQ1LWI1MmUtMDUxZTk3YjMwZTky',\n",
       " 'YTJjMGRlMjAtYzk1My00NjRjLWFmMTktODg2ZjFhYzgyODRi',\n",
       " 'NGQ5MGNkOTktZTU5ZS00ZTAwLWFhODktNjBjZTdkZGY1NTdj',\n",
       " 'NDFiYjc3NDctODA3NC00MGRjLTg5NGEtNmNjNDU0MWM2ZGY2',\n",
       " 'OWVkZDQwMjktZWIyMC00MzI2LTgyYTItNTJiMmQ1MjVmZjQz',\n",
       " 'MzNhYjRmMWMtOGFkOC00ZThlLWExNzUtYmIxMWU1Njg0YTEy',\n",
       " 'MmE5Mjg1M2QtNTdjNy00N2IwLTg5MjItMmVjNzViMDZkNTVl',\n",
       " 'MzRjNDA2NmItYTQ4Zi00MzI5LTk0ZDQtOGU3NDgxNGVlMDE3',\n",
       " 'ZjFjMzhhOGMtZWQyNS00MThmLWEzODUtNjAxMTkwYWUxYmU4',\n",
       " 'MzA4ZmVlODctNzEwNS00OTc5LTgxNzUtYjQ0ODZkMzQwNDU1',\n",
       " 'M2NmOGNhODEtNTQwNy00MzBhLTg5MjQtNTEzYTllYmYwNjUw',\n",
       " 'MDVhMzY0NTEtNDhhOS00Njk3LTk5ZmItNDFkMTI5M2VlNzFj',\n",
       " 'MmFmNzAxMzUtODcxMy00YmRlLWIwZTktZjNmMDJhYzU1YTE1',\n",
       " 'YWYwMWY5ZjUtNzJhOS00M2MwLTkxYjQtNmU0YWJjZTZiOTFl',\n",
       " 'YTQ1NjVmOTItOWQ4NS00YzBiLWIwZjEtNTQ0MjBjODA3YjE0',\n",
       " 'NGY3MmEwY2EtMmRiOC00NTQ0LWJiMzEtMmZjMWVmNDhiZmU0',\n",
       " 'YWMxYmU3YWUtZTcwMC00NGE3LWIzYzktYjI0MDUyZmNiNTNh',\n",
       " 'OGUzYjA4OWYtNzZmMy00MGU1LTkzNDgtZjc3MWY3OWE0MmRm',\n",
       " 'MTU5MTFhYzctNmU1MS00Y2Y2LWI3ZDItZWEyNDQwYzNlYzk1',\n",
       " 'MjI3YjBkZjMtMzMxOC00ZmM2LWIzY2QtZDk2ZmJmNmRiNTc5',\n",
       " 'NDc5MGU0Y2UtOTE0Yi00MGY4LWI0OTYtMWRiODdlMDFmYmVl',\n",
       " 'NmRiMDY1Y2MtZjBiNi00OWIxLWE3ZTgtZDBhNTQ1ZmIyYmU2']"
      ]
     },
     "execution_count": 3,
     "metadata": {},
     "output_type": "execute_result"
    }
   ],
   "source": [
    "from langchain.document_loaders import TextLoader\n",
    "from langchain.text_splitter import CharacterTextSplitter\n",
    "\n",
    "loader = TextLoader(\"./test.txt\", encoding=\"utf-8\")\n",
    "\n",
    "documents = loader.load()\n",
    "text_splitter = CharacterTextSplitter(chunk_size=1000, chunk_overlap=0)\n",
    "docs = text_splitter.split_documents(documents)\n",
    "\n",
    "vector_store.add_documents(documents=docs)"
   ]
  },
  {
   "cell_type": "code",
   "execution_count": 4,
   "id": "dbe8f5a7-aeb3-40e0-9781-b75461782329",
   "metadata": {},
   "outputs": [
    {
     "name": "stdout",
     "output_type": "stream",
     "text": [
      "Tonight. I call on the Senate to: Pass the Freedom to Vote Act. Pass the John Lewis Voting Rights Act. And while you’re at it, pass the Disclose Act so Americans can know who is funding our elections. \n",
      "\n",
      "Tonight, I’d like to honor someone who has dedicated his life to serve this country: Justice Stephen Breyer—an Army veteran, Constitutional scholar, and retiring Justice of the United States Supreme Court. Justice Breyer, thank you for your service. \n",
      "\n",
      "One of the most serious constitutional responsibilities a President has is nominating someone to serve on the United States Supreme Court. \n",
      "\n",
      "And I did that 4 days ago, when I nominated Circuit Court of Appeals Judge Ketanji Brown Jackson. One of our nation’s top legal minds, who will continue Justice Breyer’s legacy of excellence.\n"
     ]
    }
   ],
   "source": [
    "# Perform a similarity search\n",
    "docs = vector_store.similarity_search(\n",
    "    query=\"What did the president say about Ketanji Brown Jackson\",\n",
    "    k=3,\n",
    "    search_type=\"similarity\",\n",
    ")\n",
    "print(docs[0].page_content)"
   ]
  },
  {
   "cell_type": "code",
   "execution_count": 5,
   "id": "e00924e2-7bf9-484b-aa85-4ef8ad22e066",
   "metadata": {},
   "outputs": [
    {
     "name": "stdout",
     "output_type": "stream",
     "text": [
      "Tonight. I call on the Senate to: Pass the Freedom to Vote Act. Pass the John Lewis Voting Rights Act. And while you’re at it, pass the Disclose Act so Americans can know who is funding our elections. \n",
      "\n",
      "Tonight, I’d like to honor someone who has dedicated his life to serve this country: Justice Stephen Breyer—an Army veteran, Constitutional scholar, and retiring Justice of the United States Supreme Court. Justice Breyer, thank you for your service. \n",
      "\n",
      "One of the most serious constitutional responsibilities a President has is nominating someone to serve on the United States Supreme Court. \n",
      "\n",
      "And I did that 4 days ago, when I nominated Circuit Court of Appeals Judge Ketanji Brown Jackson. One of our nation’s top legal minds, who will continue Justice Breyer’s legacy of excellence.\n"
     ]
    }
   ],
   "source": [
    "# Perform a hybrid search\n",
    "docs = vector_store.similarity_search(\n",
    "    query=\"What did the president say about Ketanji Brown Jackson\",\n",
    "    k=3, \n",
    "    search_type=\"hybrid\"\n",
    ")\n",
    "print(docs[0].page_content)"
   ]
  },
  {
   "cell_type": "code",
   "execution_count": 6,
   "id": "b312ad82-af41-4627-87c6-414e1f962166",
   "metadata": {},
   "outputs": [],
   "source": [
    "from azure.search.documents.indexes.models import (\n",
    "    SearchableField,\n",
    "    SearchField,\n",
    "    SearchFieldDataType,\n",
    "    SimpleField,\n",
    "    ScoringProfile,\n",
    "    TextWeights,\n",
    ")\n",
    "\n",
    "# embeddings: OpenAIEmbeddings = OpenAIEmbeddings(deployment=model, chunk_size=1)\n",
    "embedding_function = embeddings.embed_query\n",
    "\n",
    "fields = [\n",
    "    SimpleField(\n",
    "        name=\"id\",\n",
    "        type=SearchFieldDataType.String,\n",
    "        key=True,\n",
    "        filterable=True,\n",
    "    ),\n",
    "    SearchableField(\n",
    "        name=\"content\",\n",
    "        type=SearchFieldDataType.String,\n",
    "        searchable=True,\n",
    "    ),\n",
    "    SearchField(\n",
    "        name=\"content_vector\",\n",
    "        type=SearchFieldDataType.Collection(SearchFieldDataType.Single),\n",
    "        searchable=True,\n",
    "        vector_search_dimensions=len(embedding_function(\"Text\")),\n",
    "        vector_search_configuration=\"default\",\n",
    "    ),\n",
    "    SearchableField(\n",
    "        name=\"metadata\",\n",
    "        type=SearchFieldDataType.String,\n",
    "        searchable=True,\n",
    "    ),\n",
    "    # Additional field to store the title\n",
    "    SearchableField(\n",
    "        name=\"title\",\n",
    "        type=SearchFieldDataType.String,\n",
    "        searchable=True,\n",
    "    ),\n",
    "    # Additional field for filtering on document source\n",
    "    SimpleField(\n",
    "        name=\"source\",\n",
    "        type=SearchFieldDataType.String,\n",
    "        filterable=True,\n",
    "    ),\n",
    "]\n",
    "\n",
    "index_name: str = \"langchain-vector-demo-custom\"\n",
    "\n",
    "vector_store: AzureSearch = AzureSearch(\n",
    "    azure_search_endpoint=os.getenv(\"COGNITIVE_SEARCH_API_BASE\"),\n",
    "    azure_search_key=os.getenv(\"COGNITIVE_SEARCH_API_KEY\"),\n",
    "    index_name=index_name,\n",
    "    embedding_function=embedding_function,\n",
    "    fields=fields,\n",
    ")"
   ]
  },
  {
   "cell_type": "code",
   "execution_count": 7,
   "id": "e9e2c94d-4a30-4ec4-9e53-e0b2399eaa51",
   "metadata": {},
   "outputs": [
    {
     "data": {
      "text/plain": [
       "['NzNhMTlmMWQtM2U5My00ZDcwLWIwNzEtYjkwODFjMTk4YWY1',\n",
       " 'MDIzOTJmMWMtNjFjMS00MGY4LWEwYWUtMDg5M2M5NzVhNWFk',\n",
       " 'M2U3YTM5MTktNWNjNi00ZTI0LWJjNjYtN2JmOTc3YjI3ZTQ5']"
      ]
     },
     "execution_count": 7,
     "metadata": {},
     "output_type": "execute_result"
    }
   ],
   "source": [
    "# Data in the metadata dictionary with a corresponding field in the index will be added to the index\n",
    "# In this example, the metadata dictionary contains a title, a source and a random field\n",
    "# The title and the source will be added to the index as separate fields, but the random won't. (as it is not defined in the fields list)\n",
    "# The random field will be only stored in the metadata field\n",
    "vector_store.add_texts(\n",
    "    [\"Test 1\", \"Test 2\", \"Test 3\"],\n",
    "    [\n",
    "        {\"title\": \"Title 1\", \"source\": \"A\", \"random\": \"10290\"},\n",
    "        {\"title\": \"Title 2\", \"source\": \"A\", \"random\": \"48392\"},\n",
    "        {\"title\": \"Title 3\", \"source\": \"B\", \"random\": \"32893\"},\n",
    "    ],\n",
    ")"
   ]
  },
  {
   "cell_type": "code",
   "execution_count": 8,
   "id": "e362f845-480a-4248-bdc2-fe30ee57ef1f",
   "metadata": {},
   "outputs": [
    {
     "data": {
      "text/plain": [
       "[Document(page_content='Test 3', metadata={'title': 'Title 3', 'source': 'B', 'random': '32893'}),\n",
       " Document(page_content='Test 2', metadata={'title': 'Title 2', 'source': 'A', 'random': '48392'}),\n",
       " Document(page_content='Test 1', metadata={'title': 'Title 1', 'source': 'A', 'random': '10290'})]"
      ]
     },
     "execution_count": 8,
     "metadata": {},
     "output_type": "execute_result"
    }
   ],
   "source": [
    "res = vector_store.similarity_search(query=\"Test 3 source1\", k=3, search_type=\"hybrid\")\n",
    "res"
   ]
  },
  {
   "cell_type": "code",
   "execution_count": 9,
   "id": "fca63bdc-7d5a-4981-a3de-aea049b340f2",
   "metadata": {},
   "outputs": [
    {
     "data": {
      "text/plain": [
       "[Document(page_content='Test 2', metadata={'title': 'Title 2', 'source': 'A', 'random': '48392'}),\n",
       " Document(page_content='Test 1', metadata={'title': 'Title 1', 'source': 'A', 'random': '10290'})]"
      ]
     },
     "execution_count": 9,
     "metadata": {},
     "output_type": "execute_result"
    }
   ],
   "source": [
    "res = vector_store.similarity_search(query=\"Test 3 source1\", k=3, search_type=\"hybrid\", filters=\"source eq 'A'\")\n",
    "res"
   ]
  },
  {
   "cell_type": "code",
   "execution_count": 10,
   "id": "3bd01cbd-2386-45da-90f0-6a882376c9ef",
   "metadata": {},
   "outputs": [],
   "source": [
    "from azure.search.documents.indexes.models import (\n",
    "    SearchableField,\n",
    "    SearchField,\n",
    "    SearchFieldDataType,\n",
    "    SimpleField,\n",
    "    ScoringProfile,\n",
    "    TextWeights,\n",
    "    ScoringFunction,\n",
    "    FreshnessScoringFunction,\n",
    "    FreshnessScoringParameters\n",
    ")\n",
    "\n",
    "# embeddings: OpenAIEmbeddings = OpenAIEmbeddings(deployment=model, chunk_size=1)\n",
    "embedding_function = embeddings.embed_query\n",
    "\n",
    "fields = [\n",
    "    SimpleField(\n",
    "        name=\"id\",\n",
    "        type=SearchFieldDataType.String,\n",
    "        key=True,\n",
    "        filterable=True,\n",
    "    ),\n",
    "    SearchableField(\n",
    "        name=\"content\",\n",
    "        type=SearchFieldDataType.String,\n",
    "        searchable=True,\n",
    "    ),\n",
    "    SearchField(\n",
    "        name=\"content_vector\",\n",
    "        type=SearchFieldDataType.Collection(SearchFieldDataType.Single),\n",
    "        searchable=True,\n",
    "        vector_search_dimensions=len(embedding_function(\"Text\")),\n",
    "        vector_search_configuration=\"default\",\n",
    "    ),\n",
    "    SearchableField(\n",
    "        name=\"metadata\",\n",
    "        type=SearchFieldDataType.String,\n",
    "        searchable=True,\n",
    "    ),\n",
    "    # Additional field to store the title\n",
    "    SearchableField(\n",
    "        name=\"title\",\n",
    "        type=SearchFieldDataType.String,\n",
    "        searchable=True,\n",
    "    ),\n",
    "    # Additional field for filtering on document source\n",
    "    SimpleField(\n",
    "        name=\"source\",\n",
    "        type=SearchFieldDataType.String,\n",
    "        filterable=True,\n",
    "    ),\n",
    "    # Additional data field for last doc update\n",
    "    SimpleField(\n",
    "        name=\"last_update\",\n",
    "        type=SearchFieldDataType.DateTimeOffset,\n",
    "        searchable=True,\n",
    "        filterable=True\n",
    "    )\n",
    "]\n",
    "# Adding a custom scoring profile with a freshness function\n",
    "sc_name = \"scoring_profile\"\n",
    "sc = ScoringProfile(\n",
    "    name=sc_name,\n",
    "    text_weights=TextWeights(weights={\"title\": 5}),\n",
    "    function_aggregation=\"sum\",\n",
    "    functions=[\n",
    "        FreshnessScoringFunction(\n",
    "            field_name=\"last_update\",\n",
    "            boost=100,\n",
    "            parameters=FreshnessScoringParameters(boosting_duration=\"P2D\"),\n",
    "            interpolation=\"linear\"\n",
    "        )\n",
    "    ]\n",
    ")\n",
    "\n",
    "index_name = \"langchain-vector-demo-custom-scoring-profile\"\n",
    "\n",
    "vector_store: AzureSearch = AzureSearch(\n",
    "    azure_search_endpoint=os.getenv(\"COGNITIVE_SEARCH_API_BASE\"),\n",
    "    azure_search_key=os.getenv(\"COGNITIVE_SEARCH_API_KEY\"),\n",
    "    index_name=index_name,\n",
    "    embedding_function=embeddings.embed_query,\n",
    "    fields=fields,\n",
    "    scoring_profiles = [sc],\n",
    "    default_scoring_profile = sc_name\n",
    ")"
   ]
  },
  {
   "cell_type": "code",
   "execution_count": 11,
   "id": "245eb015-d897-418f-a08e-f8fde5dd6e7c",
   "metadata": {},
   "outputs": [
    {
     "data": {
      "text/plain": [
       "['ZTNkZDM3NDctMWU3MS00ZTJjLWJkY2YtYzVhYmU2Yjc5MDBj',\n",
       " 'M2RmZjBiNTAtZjcyNC00MGM2LWJlY2MtZTFjZDllNGZkNGY1',\n",
       " 'NDNiYmM4OWQtODlkMi00ZGM5LWI0OWYtMDc1YmMyNTM0NDMy']"
      ]
     },
     "execution_count": 11,
     "metadata": {},
     "output_type": "execute_result"
    }
   ],
   "source": [
    "# Adding same data with different last_update to show Scoring Profile effect\n",
    "from datetime import datetime, timedelta\n",
    "\n",
    "today = datetime.utcnow().strftime('%Y-%m-%dT%H:%M:%S-00:00')\n",
    "yesterday = (datetime.utcnow() - timedelta(days=1)).strftime('%Y-%m-%dT%H:%M:%S-00:00')\n",
    "one_month_ago = (datetime.utcnow() - timedelta(days=30)).strftime('%Y-%m-%dT%H:%M:%S-00:00')\n",
    "\n",
    "vector_store.add_texts(\n",
    "    [\"Test 1\", \"Test 1\", \"Test 1\"],\n",
    "    [\n",
    "        {\"title\": \"Title 1\", \"source\": \"source1\", \"random\": \"10290\", \"last_update\": today},\n",
    "        {\"title\": \"Title 1\", \"source\": \"source1\", \"random\": \"48392\", \"last_update\": yesterday},\n",
    "        {\"title\": \"Title 1\", \"source\": \"source1\", \"random\": \"32893\", \"last_update\": one_month_ago},\n",
    "    ],\n",
    ")"
   ]
  },
  {
   "cell_type": "code",
   "execution_count": 12,
   "id": "9235faf8-6fc0-4787-93a0-004b5b762286",
   "metadata": {},
   "outputs": [
    {
     "data": {
      "text/plain": [
       "[Document(page_content='Test 1', metadata={'title': 'Title 1', 'source': 'source1', 'random': '10290', 'last_update': '2023-11-07T02:37:11-00:00'}),\n",
       " Document(page_content='Test 1', metadata={'title': 'Title 1', 'source': 'source1', 'random': '48392', 'last_update': '2023-11-06T02:37:11-00:00'}),\n",
       " Document(page_content='Test 1', metadata={'title': 'Title 1', 'source': 'source1', 'random': '32893', 'last_update': '2023-10-08T02:37:11-00:00'})]"
      ]
     },
     "execution_count": 12,
     "metadata": {},
     "output_type": "execute_result"
    }
   ],
   "source": [
    "res = vector_store.similarity_search(query=\"Test 1\", k=3, search_type=\"similarity\")\n",
    "res"
   ]
  }
 ],
 "metadata": {
  "kernelspec": {
   "display_name": "Python 3 (ipykernel)",
   "language": "python",
   "name": "python3"
  },
  "language_info": {
   "codemirror_mode": {
    "name": "ipython",
    "version": 3
   },
   "file_extension": ".py",
   "mimetype": "text/x-python",
   "name": "python",
   "nbconvert_exporter": "python",
   "pygments_lexer": "ipython3",
   "version": "3.10.7"
  }
 },
 "nbformat": 4,
 "nbformat_minor": 5
}
