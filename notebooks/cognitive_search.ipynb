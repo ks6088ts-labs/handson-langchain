{
 "cells": [
  {
   "cell_type": "code",
   "execution_count": 1,
   "id": "843b5d31-2adb-4d83-904f-b84a261a8f62",
   "metadata": {},
   "outputs": [
    {
     "name": "stdin",
     "output_type": "stream",
     "text": [
      "OpenAI API Base: https://aoai-r7a5whblfnou2.openai.azure.com/\n",
      "OpenAI API Key: ········\n"
     ]
    }
   ],
   "source": [
    "# https://python.langchain.com/docs/integrations/vectorstores/azuresearch\n",
    "import openai\n",
    "import os\n",
    "from langchain.embeddings import OpenAIEmbeddings\n",
    "from langchain.vectorstores.azuresearch import AzureSearch\n",
    "\n",
    "\n",
    "import getpass\n",
    "\n",
    "OPENAI_API_TYPE = \"azure\"\n",
    "OPENAI_API_VERSION = \"2023-05-15\"\n",
    "\n",
    "# \"https://<your-endpoint.openai.azure.com/\"\n",
    "OPENAI_API_BASE = input('OpenAI API Base:')\n",
    "OPENAI_API_KEY = getpass.getpass('OpenAI API Key:')\n",
    "OPENAI_API_EMBEDDING_MODEL = \"text-embedding-ada-002\"\n",
    "OPENAI_API_EMBEDDING_DEPLOYMENT_ID = \"embedding\""
   ]
  },
  {
   "cell_type": "code",
   "execution_count": 2,
   "id": "d876f5be-f9a9-49d9-927a-391ddca98e0d",
   "metadata": {},
   "outputs": [
    {
     "name": "stdin",
     "output_type": "stream",
     "text": [
      "Cognitive Search URL: https://searchaz6ysakwgm47s.search.windows.net\n",
      "Cognitive Search Admin Key: ········\n"
     ]
    }
   ],
   "source": [
    "vector_store_address: str = input('Cognitive Search URL:')\n",
    "vector_store_password: str = getpass.getpass('Cognitive Search Admin Key:')"
   ]
  },
  {
   "cell_type": "code",
   "execution_count": 3,
   "id": "1bbeab50-5220-44c6-8423-9a780627477a",
   "metadata": {},
   "outputs": [],
   "source": [
    "embeddings: OpenAIEmbeddings = OpenAIEmbeddings(\n",
    "    model=OPENAI_API_EMBEDDING_MODEL,\n",
    "    deployment=OPENAI_API_EMBEDDING_DEPLOYMENT_ID,\n",
    "    openai_api_version=OPENAI_API_VERSION,\n",
    "    openai_api_base=OPENAI_API_BASE,\n",
    "    openai_api_type=OPENAI_API_TYPE,\n",
    "    openai_api_key=OPENAI_API_KEY,\n",
    "    chunk_size=1\n",
    ")\n",
    "\n",
    "index_name: str = \"langchain-vector-demo\"\n",
    "vector_store: AzureSearch = AzureSearch(\n",
    "    azure_search_endpoint=vector_store_address,\n",
    "    azure_search_key=vector_store_password,\n",
    "    index_name=index_name,\n",
    "    embedding_function=embeddings.embed_query,\n",
    ")"
   ]
  },
  {
   "cell_type": "code",
   "execution_count": 4,
   "id": "4bcd0a80-1076-4046-9b2b-f7d157898dbc",
   "metadata": {},
   "outputs": [
    {
     "name": "stderr",
     "output_type": "stream",
     "text": [
      "Retrying langchain.embeddings.openai.embed_with_retry.<locals>._embed_with_retry in 4.0 seconds as it raised RateLimitError: Requests to the Get a vector representation of a given input that can be easily consumed by machine learning models and algorithms. Operation under Azure OpenAI API version 2023-05-15 have exceeded call rate limit of your current OpenAI S0 pricing tier. Please retry after 10 seconds. Please go here: https://aka.ms/oai/quotaincrease if you would like to further increase the default rate limit..\n",
      "Retrying langchain.embeddings.openai.embed_with_retry.<locals>._embed_with_retry in 4.0 seconds as it raised RateLimitError: Requests to the Get a vector representation of a given input that can be easily consumed by machine learning models and algorithms. Operation under Azure OpenAI API version 2023-05-15 have exceeded call rate limit of your current OpenAI S0 pricing tier. Please retry after 6 seconds. Please go here: https://aka.ms/oai/quotaincrease if you would like to further increase the default rate limit..\n",
      "Retrying langchain.embeddings.openai.embed_with_retry.<locals>._embed_with_retry in 4.0 seconds as it raised RateLimitError: Requests to the Get a vector representation of a given input that can be easily consumed by machine learning models and algorithms. Operation under Azure OpenAI API version 2023-05-15 have exceeded call rate limit of your current OpenAI S0 pricing tier. Please retry after 2 seconds. Please go here: https://aka.ms/oai/quotaincrease if you would like to further increase the default rate limit..\n",
      "Retrying langchain.embeddings.openai.embed_with_retry.<locals>._embed_with_retry in 4.0 seconds as it raised RateLimitError: Requests to the Get a vector representation of a given input that can be easily consumed by machine learning models and algorithms. Operation under Azure OpenAI API version 2023-05-15 have exceeded call rate limit of your current OpenAI S0 pricing tier. Please retry after 10 seconds. Please go here: https://aka.ms/oai/quotaincrease if you would like to further increase the default rate limit..\n",
      "Retrying langchain.embeddings.openai.embed_with_retry.<locals>._embed_with_retry in 4.0 seconds as it raised RateLimitError: Requests to the Get a vector representation of a given input that can be easily consumed by machine learning models and algorithms. Operation under Azure OpenAI API version 2023-05-15 have exceeded call rate limit of your current OpenAI S0 pricing tier. Please retry after 6 seconds. Please go here: https://aka.ms/oai/quotaincrease if you would like to further increase the default rate limit..\n",
      "Retrying langchain.embeddings.openai.embed_with_retry.<locals>._embed_with_retry in 4.0 seconds as it raised RateLimitError: Requests to the Get a vector representation of a given input that can be easily consumed by machine learning models and algorithms. Operation under Azure OpenAI API version 2023-05-15 have exceeded call rate limit of your current OpenAI S0 pricing tier. Please retry after 2 seconds. Please go here: https://aka.ms/oai/quotaincrease if you would like to further increase the default rate limit..\n",
      "Retrying langchain.embeddings.openai.embed_with_retry.<locals>._embed_with_retry in 4.0 seconds as it raised RateLimitError: Requests to the Get a vector representation of a given input that can be easily consumed by machine learning models and algorithms. Operation under Azure OpenAI API version 2023-05-15 have exceeded call rate limit of your current OpenAI S0 pricing tier. Please retry after 10 seconds. Please go here: https://aka.ms/oai/quotaincrease if you would like to further increase the default rate limit..\n",
      "Retrying langchain.embeddings.openai.embed_with_retry.<locals>._embed_with_retry in 4.0 seconds as it raised RateLimitError: Requests to the Get a vector representation of a given input that can be easily consumed by machine learning models and algorithms. Operation under Azure OpenAI API version 2023-05-15 have exceeded call rate limit of your current OpenAI S0 pricing tier. Please retry after 6 seconds. Please go here: https://aka.ms/oai/quotaincrease if you would like to further increase the default rate limit..\n",
      "Retrying langchain.embeddings.openai.embed_with_retry.<locals>._embed_with_retry in 4.0 seconds as it raised RateLimitError: Requests to the Get a vector representation of a given input that can be easily consumed by machine learning models and algorithms. Operation under Azure OpenAI API version 2023-05-15 have exceeded call rate limit of your current OpenAI S0 pricing tier. Please retry after 2 seconds. Please go here: https://aka.ms/oai/quotaincrease if you would like to further increase the default rate limit..\n",
      "Retrying langchain.embeddings.openai.embed_with_retry.<locals>._embed_with_retry in 4.0 seconds as it raised RateLimitError: Requests to the Get a vector representation of a given input that can be easily consumed by machine learning models and algorithms. Operation under Azure OpenAI API version 2023-05-15 have exceeded call rate limit of your current OpenAI S0 pricing tier. Please retry after 10 seconds. Please go here: https://aka.ms/oai/quotaincrease if you would like to further increase the default rate limit..\n",
      "Retrying langchain.embeddings.openai.embed_with_retry.<locals>._embed_with_retry in 4.0 seconds as it raised RateLimitError: Requests to the Get a vector representation of a given input that can be easily consumed by machine learning models and algorithms. Operation under Azure OpenAI API version 2023-05-15 have exceeded call rate limit of your current OpenAI S0 pricing tier. Please retry after 6 seconds. Please go here: https://aka.ms/oai/quotaincrease if you would like to further increase the default rate limit..\n",
      "Retrying langchain.embeddings.openai.embed_with_retry.<locals>._embed_with_retry in 4.0 seconds as it raised RateLimitError: Requests to the Get a vector representation of a given input that can be easily consumed by machine learning models and algorithms. Operation under Azure OpenAI API version 2023-05-15 have exceeded call rate limit of your current OpenAI S0 pricing tier. Please retry after 2 seconds. Please go here: https://aka.ms/oai/quotaincrease if you would like to further increase the default rate limit..\n"
     ]
    },
    {
     "data": {
      "text/plain": [
       "['OTQyMTZmYzEtZWU3Yi00NjMzLWJhNjYtOTg1YzQyNWYwMTY4',\n",
       " 'NzExZTg5MTctOWIyYS00NTg5LWFkZTMtZjBkODUwMzliN2Ez',\n",
       " 'MDg1MTE2YzctYjQ1My00MDdkLTkwY2EtZjZhYmE4ZDYwNDM0',\n",
       " 'ZTAyNjdjMDktYWJhZC00OWYzLTkyODYtMmY5MzhjMTQ3NjFl',\n",
       " 'MWZmODUxZTQtMzI0Mi00MDQ3LTllNDQtN2NiNTg2MjY0N2Y3',\n",
       " 'Y2Q4MGNlZjItMzE1ZS00YmFjLTk1OTMtZGQzODNkMmNkYWJi',\n",
       " 'Y2NkYWE5ZmQtZjMzOS00YTI0LTgzZWMtM2FlNzVlMTk5ZGE5',\n",
       " 'MGI5YmViYzQtYjI5Mi00YzAxLWIzNzYtNGYyNDVhZWY2YzAw',\n",
       " 'OWM4YTA2ZTctNDhjNi00MWEwLTliNjEtYWZkMGQ2MmU1ZDcx',\n",
       " 'NGM4NzM3NTEtYWM3OC00OGVkLWJkNTMtZWZiZTVlNzk4ODZi',\n",
       " 'N2EzZDNhZjMtNmIxZS00NDQ2LWFkMzQtMWI5OTlmZjk1NTc1',\n",
       " 'NjhlYTAwODUtZjc4NC00NzVkLTk3MDAtYTU3OGFhYWM4NmU5',\n",
       " 'ZGRjODFkNjMtOTE2Ny00NzllLThlOTctMjViNDgyNDM2OTEw',\n",
       " 'NjhiMzBmYzAtNzAyMC00Yzg1LWE5ZGEtMDIxODZlYmJlYWFi',\n",
       " 'YTQ5ZjA3MzktOGY3NS00ZmU2LThkNTItYTNmYmNlYzhmM2Jl',\n",
       " 'MDlhNTI4NjktMjdkMC00ZGEzLThmMTAtMDY2YjlkMGQyMzA2',\n",
       " 'ZDhkMDdkZjgtZjMxZi00NTUxLWJhNDEtZjM2YWIzNzUwYTU4',\n",
       " 'N2ZkM2VkYTEtOTc5ZC00MTM0LWE4MGMtYTQyOTI5OTA4Mjkz',\n",
       " 'ZTBlZTI4N2EtZTkwMy00NzJjLTk1ZjAtMzAxYWM0ZTRlOWFl',\n",
       " 'MzI3ZGY5MTctY2RlOC00N2Q4LThlNzMtZDQyZDgyMjE1MWI2',\n",
       " 'Y2FmMTJjNTItNmJjZi00ZjQ2LWFlYWQtMjRiNGNjZjcxNWQ3',\n",
       " 'YzM0OGIxYWYtYTIwNC00MzlkLWFjMzAtY2JjNmE1MmFkMzJl',\n",
       " 'ZTZhNGVhOTAtZGMxYi00ZDQ3LWE5MWEtNjM0MjA3NDEzMmE4',\n",
       " 'YWVkMjhjZDItMGZmYy00MDU1LWIwOGMtYTkwMDViMDE4MTEy',\n",
       " 'YjM1ZDJmNjEtNTNiYi00ZGJjLTliMzMtZmM0Mjg4YjcxNWMy',\n",
       " 'MjA5YWFmYzYtMzY4Ni00NzY2LWIwZjQtNzgwODIwNmUxMWZj',\n",
       " 'ZmQwYWJlNDItYzVmNi00MjVkLWFhMjEtNmI2MjYwNWFhN2Iz',\n",
       " 'ZjA4ZDRiMWUtNjJmOC00MmJhLTgxM2UtMWQ5ODIyOWJiMzM3',\n",
       " 'NDJlZTVhNzUtYzEwMC00MzYzLTkxNjctOTk4M2EyM2MzYjk0',\n",
       " 'YjliYzM3ZTktZTUwNi00Yzg1LWE3NGUtN2M5ODNjODQyYWIw',\n",
       " 'ZjFlZTI0M2ItODY5Yi00M2RmLWI4ZTEtZmVlMzBmYmQ2Y2Fm',\n",
       " 'ZTQ1MTM3YmMtMmE4Zi00ZDcyLWJjOTYtMmYyN2RjOGQwYWZi',\n",
       " 'ZmFhMjhiNzQtMDY2OS00NjEwLWFjNGMtYzFmNGRjOGFiODlh',\n",
       " 'MDM2MjJiZjMtY2E5ZC00YTlmLWI1NzAtYzllNTY2ZWNlYzkx',\n",
       " 'ZDY0MzBhMzYtYmVjMC00ZjNlLWE3MGYtYjNhNWNmZmQ3NmMz',\n",
       " 'ZjkzYTJmZDgtOTc3Ny00MWU0LTg5NGMtMjNjNmU5MjhhYTdk',\n",
       " 'MmZkYzQzMjUtMjI2My00ZTVkLThmN2UtMjcxN2MzMGJhYjE0',\n",
       " 'YmU5Mzc1NjYtMDYwOC00NjA0LWE0ZDQtNGYxZThmMTI1MjZk',\n",
       " 'OWMxNTAzYzYtOGYxNC00Nzc2LTk3ZjUtZWFkOTNkMDA0MTc4',\n",
       " 'MzkzZDBmYmYtYmM5NS00MDNkLTkzY2QtMjU4ZjI2OGMxYzgy',\n",
       " 'MzgzZWQwZDgtYzc4Yi00OGZhLWE4ZDQtNDZkZDQwODIwN2Fk',\n",
       " 'ZjM2OWE4MTQtYmQyOS00MWNhLTk4YjktOTVkZjc5ZGQ5ZTg3']"
      ]
     },
     "execution_count": 4,
     "metadata": {},
     "output_type": "execute_result"
    }
   ],
   "source": [
    "from langchain.document_loaders import TextLoader\n",
    "from langchain.text_splitter import CharacterTextSplitter\n",
    "\n",
    "loader = TextLoader(\"./test.txt\", encoding=\"utf-8\")\n",
    "\n",
    "documents = loader.load()\n",
    "text_splitter = CharacterTextSplitter(chunk_size=1000, chunk_overlap=0)\n",
    "docs = text_splitter.split_documents(documents)\n",
    "\n",
    "vector_store.add_documents(documents=docs)"
   ]
  },
  {
   "cell_type": "code",
   "execution_count": 5,
   "id": "dbe8f5a7-aeb3-40e0-9781-b75461782329",
   "metadata": {},
   "outputs": [
    {
     "name": "stdout",
     "output_type": "stream",
     "text": [
      "Tonight. I call on the Senate to: Pass the Freedom to Vote Act. Pass the John Lewis Voting Rights Act. And while you’re at it, pass the Disclose Act so Americans can know who is funding our elections. \n",
      "\n",
      "Tonight, I’d like to honor someone who has dedicated his life to serve this country: Justice Stephen Breyer—an Army veteran, Constitutional scholar, and retiring Justice of the United States Supreme Court. Justice Breyer, thank you for your service. \n",
      "\n",
      "One of the most serious constitutional responsibilities a President has is nominating someone to serve on the United States Supreme Court. \n",
      "\n",
      "And I did that 4 days ago, when I nominated Circuit Court of Appeals Judge Ketanji Brown Jackson. One of our nation’s top legal minds, who will continue Justice Breyer’s legacy of excellence.\n"
     ]
    }
   ],
   "source": [
    "# Perform a similarity search\n",
    "docs = vector_store.similarity_search(\n",
    "    query=\"What did the president say about Ketanji Brown Jackson\",\n",
    "    k=3,\n",
    "    search_type=\"similarity\",\n",
    ")\n",
    "print(docs[0].page_content)"
   ]
  },
  {
   "cell_type": "code",
   "execution_count": 6,
   "id": "e00924e2-7bf9-484b-aa85-4ef8ad22e066",
   "metadata": {},
   "outputs": [
    {
     "name": "stdout",
     "output_type": "stream",
     "text": [
      "Tonight. I call on the Senate to: Pass the Freedom to Vote Act. Pass the John Lewis Voting Rights Act. And while you’re at it, pass the Disclose Act so Americans can know who is funding our elections. \n",
      "\n",
      "Tonight, I’d like to honor someone who has dedicated his life to serve this country: Justice Stephen Breyer—an Army veteran, Constitutional scholar, and retiring Justice of the United States Supreme Court. Justice Breyer, thank you for your service. \n",
      "\n",
      "One of the most serious constitutional responsibilities a President has is nominating someone to serve on the United States Supreme Court. \n",
      "\n",
      "And I did that 4 days ago, when I nominated Circuit Court of Appeals Judge Ketanji Brown Jackson. One of our nation’s top legal minds, who will continue Justice Breyer’s legacy of excellence.\n"
     ]
    }
   ],
   "source": [
    "# Perform a hybrid search\n",
    "docs = vector_store.similarity_search(\n",
    "    query=\"What did the president say about Ketanji Brown Jackson\",\n",
    "    k=3, \n",
    "    search_type=\"hybrid\"\n",
    ")\n",
    "print(docs[0].page_content)"
   ]
  },
  {
   "cell_type": "code",
   "execution_count": 7,
   "id": "b312ad82-af41-4627-87c6-414e1f962166",
   "metadata": {},
   "outputs": [],
   "source": [
    "from azure.search.documents.indexes.models import (\n",
    "    SearchableField,\n",
    "    SearchField,\n",
    "    SearchFieldDataType,\n",
    "    SimpleField,\n",
    "    ScoringProfile,\n",
    "    TextWeights,\n",
    ")\n",
    "\n",
    "# embeddings: OpenAIEmbeddings = OpenAIEmbeddings(deployment=model, chunk_size=1)\n",
    "embedding_function = embeddings.embed_query\n",
    "\n",
    "fields = [\n",
    "    SimpleField(\n",
    "        name=\"id\",\n",
    "        type=SearchFieldDataType.String,\n",
    "        key=True,\n",
    "        filterable=True,\n",
    "    ),\n",
    "    SearchableField(\n",
    "        name=\"content\",\n",
    "        type=SearchFieldDataType.String,\n",
    "        searchable=True,\n",
    "    ),\n",
    "    SearchField(\n",
    "        name=\"content_vector\",\n",
    "        type=SearchFieldDataType.Collection(SearchFieldDataType.Single),\n",
    "        searchable=True,\n",
    "        vector_search_dimensions=len(embedding_function(\"Text\")),\n",
    "        vector_search_configuration=\"default\",\n",
    "    ),\n",
    "    SearchableField(\n",
    "        name=\"metadata\",\n",
    "        type=SearchFieldDataType.String,\n",
    "        searchable=True,\n",
    "    ),\n",
    "    # Additional field to store the title\n",
    "    SearchableField(\n",
    "        name=\"title\",\n",
    "        type=SearchFieldDataType.String,\n",
    "        searchable=True,\n",
    "    ),\n",
    "    # Additional field for filtering on document source\n",
    "    SimpleField(\n",
    "        name=\"source\",\n",
    "        type=SearchFieldDataType.String,\n",
    "        filterable=True,\n",
    "    ),\n",
    "]\n",
    "\n",
    "index_name: str = \"langchain-vector-demo-custom\"\n",
    "\n",
    "vector_store: AzureSearch = AzureSearch(\n",
    "    azure_search_endpoint=vector_store_address,\n",
    "    azure_search_key=vector_store_password,\n",
    "    index_name=index_name,\n",
    "    embedding_function=embedding_function,\n",
    "    fields=fields,\n",
    ")"
   ]
  },
  {
   "cell_type": "code",
   "execution_count": 8,
   "id": "e9e2c94d-4a30-4ec4-9e53-e0b2399eaa51",
   "metadata": {},
   "outputs": [
    {
     "data": {
      "text/plain": [
       "['MjgwN2FkY2ItOGY5ZS00MmI0LWJkNjItMjI0ODk5ZWU2ZjU3',\n",
       " 'NzNlN2JlNGItMmU0ZC00MTg3LThhYzUtZjc0MzAwNGQ4YTFi',\n",
       " 'OTUxOTc4Y2EtOTEyZC00N2RjLWFiNzYtZTUyOTZhODc3ZDVi']"
      ]
     },
     "execution_count": 8,
     "metadata": {},
     "output_type": "execute_result"
    }
   ],
   "source": [
    "# Data in the metadata dictionary with a corresponding field in the index will be added to the index\n",
    "# In this example, the metadata dictionary contains a title, a source and a random field\n",
    "# The title and the source will be added to the index as separate fields, but the random won't. (as it is not defined in the fields list)\n",
    "# The random field will be only stored in the metadata field\n",
    "vector_store.add_texts(\n",
    "    [\"Test 1\", \"Test 2\", \"Test 3\"],\n",
    "    [\n",
    "        {\"title\": \"Title 1\", \"source\": \"A\", \"random\": \"10290\"},\n",
    "        {\"title\": \"Title 2\", \"source\": \"A\", \"random\": \"48392\"},\n",
    "        {\"title\": \"Title 3\", \"source\": \"B\", \"random\": \"32893\"},\n",
    "    ],\n",
    ")"
   ]
  },
  {
   "cell_type": "code",
   "execution_count": 9,
   "id": "e362f845-480a-4248-bdc2-fe30ee57ef1f",
   "metadata": {},
   "outputs": [
    {
     "data": {
      "text/plain": [
       "[Document(page_content='Test 3', metadata={'title': 'Title 3', 'source': 'B', 'random': '32893'}),\n",
       " Document(page_content='Test 3', metadata={'title': 'Title 3', 'source': 'B', 'random': '32893'}),\n",
       " Document(page_content='Test 1', metadata={'title': 'Title 1', 'source': 'A', 'random': '10290'})]"
      ]
     },
     "execution_count": 9,
     "metadata": {},
     "output_type": "execute_result"
    }
   ],
   "source": [
    "res = vector_store.similarity_search(query=\"Test 3 source1\", k=3, search_type=\"hybrid\")\n",
    "res"
   ]
  },
  {
   "cell_type": "code",
   "execution_count": 10,
   "id": "fca63bdc-7d5a-4981-a3de-aea049b340f2",
   "metadata": {},
   "outputs": [
    {
     "name": "stderr",
     "output_type": "stream",
     "text": [
      "Retrying langchain.embeddings.openai.embed_with_retry.<locals>._embed_with_retry in 4.0 seconds as it raised RateLimitError: Requests to the Get a vector representation of a given input that can be easily consumed by machine learning models and algorithms. Operation under Azure OpenAI API version 2023-05-15 have exceeded call rate limit of your current OpenAI S0 pricing tier. Please retry after 8 seconds. Please go here: https://aka.ms/oai/quotaincrease if you would like to further increase the default rate limit..\n",
      "Retrying langchain.embeddings.openai.embed_with_retry.<locals>._embed_with_retry in 4.0 seconds as it raised RateLimitError: Requests to the Get a vector representation of a given input that can be easily consumed by machine learning models and algorithms. Operation under Azure OpenAI API version 2023-05-15 have exceeded call rate limit of your current OpenAI S0 pricing tier. Please retry after 4 seconds. Please go here: https://aka.ms/oai/quotaincrease if you would like to further increase the default rate limit..\n",
      "Retrying langchain.embeddings.openai.embed_with_retry.<locals>._embed_with_retry in 4.0 seconds as it raised RateLimitError: Requests to the Get a vector representation of a given input that can be easily consumed by machine learning models and algorithms. Operation under Azure OpenAI API version 2023-05-15 have exceeded call rate limit of your current OpenAI S0 pricing tier. Please retry after 1 second. Please go here: https://aka.ms/oai/quotaincrease if you would like to further increase the default rate limit..\n"
     ]
    },
    {
     "data": {
      "text/plain": [
       "[Document(page_content='Test 1', metadata={'title': 'Title 1', 'source': 'A', 'random': '10290'}),\n",
       " Document(page_content='Test 1', metadata={'title': 'Title 1', 'source': 'A', 'random': '10290'}),\n",
       " Document(page_content='Test 2', metadata={'title': 'Title 2', 'source': 'A', 'random': '48392'})]"
      ]
     },
     "execution_count": 10,
     "metadata": {},
     "output_type": "execute_result"
    }
   ],
   "source": [
    "res = vector_store.similarity_search(query=\"Test 3 source1\", k=3, search_type=\"hybrid\", filters=\"source eq 'A'\")\n",
    "res"
   ]
  },
  {
   "cell_type": "code",
   "execution_count": 11,
   "id": "3bd01cbd-2386-45da-90f0-6a882376c9ef",
   "metadata": {},
   "outputs": [],
   "source": [
    "from azure.search.documents.indexes.models import (\n",
    "    SearchableField,\n",
    "    SearchField,\n",
    "    SearchFieldDataType,\n",
    "    SimpleField,\n",
    "    ScoringProfile,\n",
    "    TextWeights,\n",
    "    ScoringFunction,\n",
    "    FreshnessScoringFunction,\n",
    "    FreshnessScoringParameters\n",
    ")\n",
    "\n",
    "# embeddings: OpenAIEmbeddings = OpenAIEmbeddings(deployment=model, chunk_size=1)\n",
    "embedding_function = embeddings.embed_query\n",
    "\n",
    "fields = [\n",
    "    SimpleField(\n",
    "        name=\"id\",\n",
    "        type=SearchFieldDataType.String,\n",
    "        key=True,\n",
    "        filterable=True,\n",
    "    ),\n",
    "    SearchableField(\n",
    "        name=\"content\",\n",
    "        type=SearchFieldDataType.String,\n",
    "        searchable=True,\n",
    "    ),\n",
    "    SearchField(\n",
    "        name=\"content_vector\",\n",
    "        type=SearchFieldDataType.Collection(SearchFieldDataType.Single),\n",
    "        searchable=True,\n",
    "        vector_search_dimensions=len(embedding_function(\"Text\")),\n",
    "        vector_search_configuration=\"default\",\n",
    "    ),\n",
    "    SearchableField(\n",
    "        name=\"metadata\",\n",
    "        type=SearchFieldDataType.String,\n",
    "        searchable=True,\n",
    "    ),\n",
    "    # Additional field to store the title\n",
    "    SearchableField(\n",
    "        name=\"title\",\n",
    "        type=SearchFieldDataType.String,\n",
    "        searchable=True,\n",
    "    ),\n",
    "    # Additional field for filtering on document source\n",
    "    SimpleField(\n",
    "        name=\"source\",\n",
    "        type=SearchFieldDataType.String,\n",
    "        filterable=True,\n",
    "    ),\n",
    "    # Additional data field for last doc update\n",
    "    SimpleField(\n",
    "        name=\"last_update\",\n",
    "        type=SearchFieldDataType.DateTimeOffset,\n",
    "        searchable=True,\n",
    "        filterable=True\n",
    "    )\n",
    "]\n",
    "# Adding a custom scoring profile with a freshness function\n",
    "sc_name = \"scoring_profile\"\n",
    "sc = ScoringProfile(\n",
    "    name=sc_name,\n",
    "    text_weights=TextWeights(weights={\"title\": 5}),\n",
    "    function_aggregation=\"sum\",\n",
    "    functions=[\n",
    "        FreshnessScoringFunction(\n",
    "            field_name=\"last_update\",\n",
    "            boost=100,\n",
    "            parameters=FreshnessScoringParameters(boosting_duration=\"P2D\"),\n",
    "            interpolation=\"linear\"\n",
    "        )\n",
    "    ]\n",
    ")\n",
    "\n",
    "index_name = \"langchain-vector-demo-custom-scoring-profile\"\n",
    "\n",
    "vector_store: AzureSearch = AzureSearch(\n",
    "    azure_search_endpoint=vector_store_address,\n",
    "    azure_search_key=vector_store_password,\n",
    "    index_name=index_name,\n",
    "    embedding_function=embeddings.embed_query,\n",
    "    fields=fields,\n",
    "    scoring_profiles = [sc],\n",
    "    default_scoring_profile = sc_name\n",
    ")"
   ]
  },
  {
   "cell_type": "code",
   "execution_count": 12,
   "id": "245eb015-d897-418f-a08e-f8fde5dd6e7c",
   "metadata": {},
   "outputs": [
    {
     "data": {
      "text/plain": [
       "['Yzk2OGYzN2MtMzQ1Ny00OGU3LTk2ZTItODQ2NTcyMjkwNDA2',\n",
       " 'ZmJlZGI0ZjItZWE0Ny00ZDUzLTgzOTMtN2RjMjdlNjBmNDJl',\n",
       " 'NTIzNTA2ODktNWVlNS00ZDZlLWJkZGQtNWM4ZWYwNzVmNjcw']"
      ]
     },
     "execution_count": 12,
     "metadata": {},
     "output_type": "execute_result"
    }
   ],
   "source": [
    "# Adding same data with different last_update to show Scoring Profile effect\n",
    "from datetime import datetime, timedelta\n",
    "\n",
    "today = datetime.utcnow().strftime('%Y-%m-%dT%H:%M:%S-00:00')\n",
    "yesterday = (datetime.utcnow() - timedelta(days=1)).strftime('%Y-%m-%dT%H:%M:%S-00:00')\n",
    "one_month_ago = (datetime.utcnow() - timedelta(days=30)).strftime('%Y-%m-%dT%H:%M:%S-00:00')\n",
    "\n",
    "vector_store.add_texts(\n",
    "    [\"Test 1\", \"Test 1\", \"Test 1\"],\n",
    "    [\n",
    "        {\"title\": \"Title 1\", \"source\": \"source1\", \"random\": \"10290\", \"last_update\": today},\n",
    "        {\"title\": \"Title 1\", \"source\": \"source1\", \"random\": \"48392\", \"last_update\": yesterday},\n",
    "        {\"title\": \"Title 1\", \"source\": \"source1\", \"random\": \"32893\", \"last_update\": one_month_ago},\n",
    "    ],\n",
    ")"
   ]
  },
  {
   "cell_type": "code",
   "execution_count": 13,
   "id": "9235faf8-6fc0-4787-93a0-004b5b762286",
   "metadata": {},
   "outputs": [
    {
     "data": {
      "text/plain": [
       "[Document(page_content='Test 1', metadata={'title': 'Title 1', 'source': 'source1', 'random': '10290', 'last_update': '2023-09-07T08:01:31-00:00'}),\n",
       " Document(page_content='Test 1', metadata={'title': 'Title 1', 'source': 'source1', 'random': '48392', 'last_update': '2023-09-06T08:01:31-00:00'}),\n",
       " Document(page_content='Test 1', metadata={'title': 'Title 1', 'source': 'source1', 'random': '32893', 'last_update': '2023-08-08T08:01:31-00:00'})]"
      ]
     },
     "execution_count": 13,
     "metadata": {},
     "output_type": "execute_result"
    }
   ],
   "source": [
    "res = vector_store.similarity_search(query=\"Test 1\", k=3, search_type=\"similarity\")\n",
    "res"
   ]
  },
  {
   "cell_type": "code",
   "execution_count": null,
   "id": "301dae36-d0c8-48c3-9e4a-47183f4858d9",
   "metadata": {},
   "outputs": [],
   "source": []
  }
 ],
 "metadata": {
  "kernelspec": {
   "display_name": "Python 3 (ipykernel)",
   "language": "python",
   "name": "python3"
  },
  "language_info": {
   "codemirror_mode": {
    "name": "ipython",
    "version": 3
   },
   "file_extension": ".py",
   "mimetype": "text/x-python",
   "name": "python",
   "nbconvert_exporter": "python",
   "pygments_lexer": "ipython3",
   "version": "3.10.7"
  }
 },
 "nbformat": 4,
 "nbformat_minor": 5
}
