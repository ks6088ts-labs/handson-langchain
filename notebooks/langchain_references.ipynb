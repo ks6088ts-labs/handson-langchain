{
 "cells": [
  {
   "cell_type": "markdown",
   "id": "c26ab9b4-d269-442b-91d9-e4903a46ff7f",
   "metadata": {},
   "source": [
    "- [orgs/langchain-ai](https://github.com/orgs/langchain-ai/repositories?q=&type=all&language=&sort=stargazers)\n",
    "- [langchain-ai/langchain](https://github.com/langchain-ai/langchain)\n",
    "- [LangChain Hub](https://smith.langchain.com/hub?organizationId=f29ec2ed-fa89-4ab3-bbaa-cf88fec26167)\n",
    "- [hwchase17/langchain-hub](https://github.com/hwchase17/langchain-hub)\n",
    "- [langchain-ai/chat-langchain](https://github.com/langchain-ai/chat-langchain)\n",
    "- [LANGCHAIN BLOG](https://blog.langchain.dev/)\n",
    "- [LangChain Integrations](https://integrations.langchain.com/)\n",
    "- [npaka](https://note.com/npaka)"
   ]
  },
  {
   "cell_type": "code",
   "execution_count": null,
   "id": "d07a4a8b-8915-45e9-a157-659e1e6e512b",
   "metadata": {},
   "outputs": [],
   "source": []
  }
 ],
 "metadata": {
  "kernelspec": {
   "display_name": "Python 3 (ipykernel)",
   "language": "python",
   "name": "python3"
  },
  "language_info": {
   "codemirror_mode": {
    "name": "ipython",
    "version": 3
   },
   "file_extension": ".py",
   "mimetype": "text/x-python",
   "name": "python",
   "nbconvert_exporter": "python",
   "pygments_lexer": "ipython3",
   "version": "3.10.7"
  }
 },
 "nbformat": 4,
 "nbformat_minor": 5
}
