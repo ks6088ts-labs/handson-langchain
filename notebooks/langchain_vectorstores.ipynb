{
 "cells": [
  {
   "cell_type": "markdown",
   "id": "fc7d24bf-a3d8-4012-9ed8-ce31b80593a4",
   "metadata": {},
   "source": [
    "* https://qiita.com/t_serizawa/items/a2ced4441da714b3076f\n",
    "* https://qiita.com/hiroki_okuhata_int/items/7102bab7d96eb2574e7d"
   ]
  },
  {
   "cell_type": "code",
   "execution_count": 1,
   "id": "6efdfb00-61dc-414e-ada5-68fb55bf1489",
   "metadata": {},
   "outputs": [
    {
     "name": "stdout",
     "output_type": "stream",
     "text": [
      "  % Total    % Received % Xferd  Average Speed   Time    Time     Time  Current\n",
      "                                 Dload  Upload   Total   Spent    Left  Speed\n",
      "100 1278k  100 1278k    0     0  2190k      0 --:--:-- --:--:-- --:--:-- 2189k\n"
     ]
    }
   ],
   "source": [
    "# https://www.nintendo.co.jp/ir/pdf/2023/security_q2303.pdf\n",
    "!curl -o ../data/nintendo.pdf https://www.nintendo.co.jp/ir/pdf/2023/security_q2303.pdf"
   ]
  },
  {
   "cell_type": "code",
   "execution_count": 2,
   "id": "23e50071-913e-4c9b-abd3-4305ebc37ce2",
   "metadata": {},
   "outputs": [],
   "source": [
    "from langchain.document_loaders import PyPDFLoader\n",
    "loader = PyPDFLoader(\"../data/nintendo.pdf\")"
   ]
  },
  {
   "cell_type": "code",
   "execution_count": 3,
   "id": "a375d554-8fb1-49b8-8eec-37bb8372121b",
   "metadata": {},
   "outputs": [],
   "source": [
    "documents = loader.load_and_split()"
   ]
  },
  {
   "cell_type": "code",
   "execution_count": 4,
   "id": "67ab0137-d720-4ad5-8597-042aeeb8a442",
   "metadata": {},
   "outputs": [
    {
     "data": {
      "text/plain": [
       "'―11―\\n２【サステナビリティに関す る考え方及び取 組】\\n当社グループ（当社及び連結子会社）は「任天堂に関わるすべての人を笑顔にする」ことを目標に、グループ全体\\nで連携しながら、サステナビリティを巡る課題へ取り組んでいます。その一環としてCSR活動の推進に努めており、当\\n社グループでは「お客様」「サプライチェーン」「社員」「環境」の4つを重点項目としています。この取り組みの中\\nには製品の品質向上と安全の確保、お子様に安心して遊んでいただくための環境の整備、取引先の皆様とのコミュニ\\nケーションを通じたCSR調達、社員のさまざまな能力発揮を可能にする職場環境づくり、製品や事業活動における環境\\n負荷の低減などが含まれ ます。\\nなお、文中の将来に関する事項 は、当連結会計年度末現在に おいて当社グループが判 断したもので す。\\n(1)ガバナン ス\\nCSR活動の推進のため、執行役員である総務本部長を事務局長とするCSR推進プロジェクト事務局を設置し、当該\\n事務局が経営会議（代表取締役及び役付執行役員を兼任する取締役で構成）に活動状況を報告の上、具体的な取り\\n組みを実施又はサポートする体制としています。また、当該事務局はその活動状況を定期的に取締役会にも報告し\\nています。\\n(2)戦略\\n各重点項目に係る取り組 みは、以下のとおりで す。\\n①お客様\\n幅広い年齢層のお客様に安心して楽しんでいただける高品質な商品を提供することを目指し、製品の安全性と信\\n頼性を追求していま す。\\n製品の安全性を確保するための体制として、「製品安全委員会」を設け、製品安全方針・品質方針の周知徹底を\\n図るとともに、開発から生産、販売、アフターサービスに至るあらゆる段階で安全性を確保するための仕組みを構\\n築し、その効果的な運営・維持・改善に取り組んでいます。また、お客様に安心して遊んでいただけるよう、ゲー\\nムソフトやサービスにおいて、安全性に配慮したゲームソフト開発や不適切なコンテンツの排除、保護者による使\\n用制限機能の周知と利用 促進の取り組みを行って います。\\n②サプライチェー ン\\n国内外の多くの生産パートナーとともにサプライチェーン全体で製品の品質や技術力の向上、安全性の確保、生\\n産効率の追求などを行っ ています。\\nまた、法令・社会規範を遵守し、人権・地域社会に配慮した生産活動を行い、取引先との信頼関係を構築して企\\n業の社会的責任を果たすために、購買基本方針・取引先の選定方針を定めています。具体的には、取引先に対して\\nも当社グループの方針への理解・協力を求めることとし、労働者の人権尊重、労働安全衛生、不適切な原材料の不\\n使用について具体的な方 針を示し た「任天堂CSR調達ガイド ライン」を周知していま す。'"
      ]
     },
     "execution_count": 4,
     "metadata": {},
     "output_type": "execute_result"
    }
   ],
   "source": [
    "documents[10].page_content"
   ]
  },
  {
   "cell_type": "code",
   "execution_count": 5,
   "id": "87a22365-0de6-45a3-96c7-ff496874c1f3",
   "metadata": {},
   "outputs": [
    {
     "name": "stdin",
     "output_type": "stream",
     "text": [
      "OpenAI API Base: https://aoai-r7a5whblfnou2.openai.azure.com/\n",
      "OpenAI API Key: ········\n"
     ]
    }
   ],
   "source": [
    "import os\n",
    "import getpass\n",
    "\n",
    "OPENAI_API_TYPE = \"azure\"\n",
    "OPENAI_API_VERSION = \"2023-05-15\"\n",
    "\n",
    "# \"https://<your-endpoint.openai.azure.com/\"\n",
    "OPENAI_API_BASE = input('OpenAI API Base:')\n",
    "OPENAI_API_KEY = getpass.getpass('OpenAI API Key:')"
   ]
  },
  {
   "cell_type": "code",
   "execution_count": 6,
   "id": "7804316a-b660-4caf-8895-e00eb62261eb",
   "metadata": {},
   "outputs": [],
   "source": [
    "from langchain.vectorstores import Chroma\n",
    "from langchain.embeddings.openai import OpenAIEmbeddings\n",
    "\n",
    "def get_chroma_db(persist_directory, db_collection_name):\n",
    "    return Chroma(\n",
    "        persist_directory=persist_directory,\n",
    "        embedding_function=OpenAIEmbeddings(\n",
    "            model=\"text-embedding-ada-002\",\n",
    "            deployment=\"embedding\",\n",
    "            openai_api_version=OPENAI_API_VERSION,\n",
    "            openai_api_base=OPENAI_API_BASE,\n",
    "            openai_api_type=OPENAI_API_TYPE,\n",
    "            openai_api_key=OPENAI_API_KEY,\n",
    "        ),\n",
    "        collection_name=db_collection_name,\n",
    "    )"
   ]
  },
  {
   "cell_type": "code",
   "execution_count": 7,
   "id": "6d7502a7-50e2-4615-a17e-977ea1dc3f80",
   "metadata": {},
   "outputs": [],
   "source": [
    "db = get_chroma_db(\n",
    "    persist_directory=\"../data\",\n",
    "    db_collection_name=\"nintendo\",\n",
    ")"
   ]
  },
  {
   "cell_type": "code",
   "execution_count": 8,
   "id": "2c94fa2a-0ba5-4655-8116-c6273bdf0320",
   "metadata": {},
   "outputs": [
    {
     "name": "stdout",
     "output_type": "stream",
     "text": [
      "complete embedding: 1 / 102\n",
      "complete embedding: 2 / 102\n",
      "complete embedding: 3 / 102\n",
      "complete embedding: 4 / 102\n",
      "complete embedding: 5 / 102\n",
      "complete embedding: 6 / 102\n",
      "complete embedding: 7 / 102\n",
      "complete embedding: 8 / 102\n"
     ]
    },
    {
     "name": "stderr",
     "output_type": "stream",
     "text": [
      "Retrying langchain.embeddings.openai.embed_with_retry.<locals>._embed_with_retry in 4.0 seconds as it raised RateLimitError: Requests to the Get a vector representation of a given input that can be easily consumed by machine learning models and algorithms. Operation under Azure OpenAI API version 2023-05-15 have exceeded call rate limit of your current OpenAI S0 pricing tier. Please retry after 9 seconds. Please go here: https://aka.ms/oai/quotaincrease if you would like to further increase the default rate limit..\n"
     ]
    },
    {
     "name": "stdout",
     "output_type": "stream",
     "text": [
      "complete embedding: 9 / 102\n",
      "complete embedding: 10 / 102\n"
     ]
    },
    {
     "name": "stderr",
     "output_type": "stream",
     "text": [
      "Retrying langchain.embeddings.openai.embed_with_retry.<locals>._embed_with_retry in 4.0 seconds as it raised RateLimitError: Requests to the Get a vector representation of a given input that can be easily consumed by machine learning models and algorithms. Operation under Azure OpenAI API version 2023-05-15 have exceeded call rate limit of your current OpenAI S0 pricing tier. Please retry after 5 seconds. Please go here: https://aka.ms/oai/quotaincrease if you would like to further increase the default rate limit..\n",
      "Retrying langchain.embeddings.openai.embed_with_retry.<locals>._embed_with_retry in 4.0 seconds as it raised RateLimitError: Requests to the Get a vector representation of a given input that can be easily consumed by machine learning models and algorithms. Operation under Azure OpenAI API version 2023-05-15 have exceeded call rate limit of your current OpenAI S0 pricing tier. Please retry after 1 second. Please go here: https://aka.ms/oai/quotaincrease if you would like to further increase the default rate limit..\n"
     ]
    },
    {
     "name": "stdout",
     "output_type": "stream",
     "text": [
      "complete embedding: 11 / 102\n",
      "complete embedding: 12 / 102\n",
      "complete embedding: 13 / 102\n",
      "complete embedding: 14 / 102\n",
      "complete embedding: 15 / 102\n",
      "complete embedding: 16 / 102\n",
      "complete embedding: 17 / 102\n"
     ]
    }
   ],
   "source": [
    "for idx, doc in enumerate(documents):\n",
    "    db.add_documents([doc])\n",
    "    print(f\"complete embedding: {idx+1} / {len(documents)}\")\n",
    "    # cancel\n",
    "    if idx > 15:\n",
    "        break"
   ]
  },
  {
   "cell_type": "code",
   "execution_count": 9,
   "id": "40b9db28-cd52-4022-a6e4-1a51daedd921",
   "metadata": {},
   "outputs": [
    {
     "data": {
      "text/plain": [
       "'―4―２【沿革】\\n1947年11月 かるた・トランプ類の製造・販売会社として京都市東山区今熊野東瓦町に、株式会社丸福とし\\nて発足。\\n1949年9月 丸福かるた販売株式会社 に社名変 更。\\n1950年3月 任天堂かるた株式会社に社名変更するとともに、合名会社山内任天堂（現株式会社山内）よ\\nり大統領印等のかるたの 製造業務を継 承。\\n1951年7月 任天堂骨牌株式会社に社 名変更。\\n1959年9月 本社を京都市東山区福稲 上高松町 60番地に移 転。\\n1961年9月 東京都に東京支店を設 置。\\n1962年1月 大阪証券取引所市場第二 部及び京都証券取引所に 株式を上 場。\\n1963年10月 任天堂株式会 社（現商号）に社名変 更。\\n1970年7月 大阪証券取引所市場第一 部に指定。\\n1980年4月 アメリカ、ニューヨーク州に現地法 人NintendoofAmericaInc.を設立。\\n1982年2月 アメリカ、ワシントン州に新たに現地法人NintendoofAmericaInc.（現連結子会社）を設\\n立し、既存のニューヨーク州法 人を吸収合 併。\\n1983年7月 東京証券取引所市場第一 部に株式を上 場。\\n1983年11月 京都府宇治市槇島町に新 工場（現宇治工場）を設置。\\n1990年2月 ドイツに現地法人 NintendoofEuropeGmbH（現連結子会 社）を設立。\\n1993年2月 フランスに現地法人 NintendoFranceS.A.R.L.（現連結子会 社）を設立。\\n2000年11月 本社を京都市南区上鳥羽 鉾立町11番地1（現在地）に移転。\\n2006年7月 韓国に現地法人韓国任天 堂株式会 社（現連結子会 社）を設立。\\n2016年6月 監査等委員会設置会社へ 移行。\\n2017年4月 ジェスネット株式会社の株式を取得し、同社の商号を任天堂販売株式会社（現連結子会社）\\nに変更。\\n2022年4月 東京証券取引所の市場区 分の見直しによ り、市場第一部からプライム 市場へ移 行。\\n―4―２【沿革】\\n1947年11月 かるた・トランプ類の製造・販売会社として京都市東山区今熊野東瓦町に、株式会社丸福とし\\nて発足。\\n1949年9月 丸福かるた販売株式会社 に社名変 更。\\n1950年3月 任天堂かるた株式会社に社名変更するとともに、合名会社山内任天堂（現株式会社山内）よ\\nり大統領印等のかるたの 製造業務を継 承。\\n1951年7月 任天堂骨牌株式会社に社 名変更。\\n1959年9月 本社を京都市東山区福稲 上高松町 60番地に移 転。\\n1961年9月 東京都に東京支店を設 置。\\n1962年1月 大阪証券取引所市場第二 部及び京都証券取引所に 株式を上 場。\\n1963年10月 任天堂株式会 社（現商号）に社名変 更。\\n1970年7月 大阪証券取引所市場第一 部に指定。\\n1980年4月 アメリカ、ニューヨーク州に現地法 人NintendoofAmericaInc.を設立。\\n1982年2月 アメリカ、ワシントン州に新たに現地法人NintendoofAmericaInc.（現連結子会社）を設\\n立し、既存のニューヨーク州法 人を吸収合 併。\\n1983年7月 東京証券取引所市場第一 部に株式を上 場。\\n1983年11月 京都府宇治市槇島町に新 工場（現宇治工場）を設置。\\n1990年2月 ドイツに現地法人 NintendoofEuropeGmbH（現連結子会 社）を設立。\\n1993年2月 フランスに現地法人 NintendoFranceS.A.R.L.（現連結子会 社）を設立。\\n2000年11月 本社を京都市南区上鳥羽 鉾立町11番地1（現在地）に移転。\\n2006年7月 韓国に現地法人韓国任天 堂株式会 社（現連結子会 社）を設立。\\n2016年6月 監査等委員会設置会社へ 移行。\\n2017年4月 ジェスネット株式会社の株式を取得し、同社の商号を任天堂販売株式会社（現連結子会社）\\nに変更。\\n2022年4月 東京証券取引所の市場区 分の見直しによ り、市場第一部からプライム 市場へ移 行。\\n―4―２【沿革】\\n1947年11月 かるた・トランプ類の製造・販売会社として京都市東山区今熊野東瓦町に、株式会社丸福とし\\nて発足。\\n1949年9月 丸福かるた販売株式会社 に社名変 更。\\n1950年3月 任天堂かるた株式会社に社名変更するとともに、合名会社山内任天堂（現株式会社山内）よ\\nり大統領印等のかるたの 製造業務を継 承。\\n1951年7月 任天堂骨牌株式会社に社 名変更。\\n1959年9月 本社を京都市東山区福稲 上高松町 60番地に移 転。\\n1961年9月 東京都に東京支店を設 置。\\n1962年1月 大阪証券取引所市場第二 部及び京都証券取引所に 株式を上 場。\\n1963年10月 任天堂株式会 社（現商号）に社名変 更。\\n1970年7月 大阪証券取引所市場第一 部に指定。\\n1980年4月 アメリカ、ニューヨーク州に現地法 人NintendoofAmericaInc.を設立。\\n1982年2月 アメリカ、ワシントン州に新たに現地法人NintendoofAmericaInc.（現連結子会社）を設\\n立し、既存のニューヨーク州法 人を吸収合 併。\\n1983年7月 東京証券取引所市場第一 部に株式を上 場。\\n1983年11月 京都府宇治市槇島町に新 工場（現宇治工場）を設置。\\n1990年2月 ドイツに現地法人 NintendoofEuropeGmbH（現連結子会 社）を設立。\\n1993年2月 フランスに現地法人 NintendoFranceS.A.R.L.（現連結子会 社）を設立。\\n2000年11月 本社を京都市南区上鳥羽 鉾立町11番地1（現在地）に移転。\\n2006年7月 韓国に現地法人韓国任天 堂株式会 社（現連結子会 社）を設立。\\n2016年6月 監査等委員会設置会社へ 移行。\\n2017年4月 ジェスネット株式会社の株式を取得し、同社の商号を任天堂販売株式会社（現連結子会社）\\nに変更。\\n2022年4月 東京証券取引所の市場区 分の見直しによ り、市場第一部からプライム 市場へ移 行。'"
      ]
     },
     "execution_count": 9,
     "metadata": {},
     "output_type": "execute_result"
    }
   ],
   "source": [
    "db2 = get_chroma_db(\n",
    "    persist_directory=\"../data\",\n",
    "    db_collection_name=\"nintendo\",\n",
    ")\n",
    "\n",
    "query = \"任天堂の代表取締役社長は誰？\"\n",
    "docs = db2.similarity_search(query, k=3)\n",
    "\n",
    "\"\\n\".join([document.page_content for document in docs])"
   ]
  },
  {
   "cell_type": "code",
   "execution_count": 10,
   "id": "2930ebe3-4d5d-4447-a9ce-dc349cdbb001",
   "metadata": {},
   "outputs": [
    {
     "name": "stdin",
     "output_type": "stream",
     "text": [
      "OpenAI API Base: https://aoai-r7a5whblfnou2.openai.azure.com/\n",
      "OpenAI API Key: ········\n"
     ]
    }
   ],
   "source": [
    "import os\n",
    "import getpass\n",
    "\n",
    "OPENAI_MODEL_NAME = \"gpt-35-turbo\"\n",
    "OPENAI_DEPLOYMENT_ID = \"chat\"\n",
    "OPENAI_API_TYPE = \"azure\"\n",
    "OPENAI_API_VERSION = \"2023-09-01-preview\"\n",
    "\n",
    "# \"https://<your-endpoint.openai.azure.com/\"\n",
    "OPENAI_API_BASE = input('OpenAI API Base:')\n",
    "OPENAI_API_KEY = getpass.getpass('OpenAI API Key:')"
   ]
  },
  {
   "cell_type": "code",
   "execution_count": 11,
   "id": "e38c6384-18b4-487c-9030-50fb1d4e258f",
   "metadata": {},
   "outputs": [],
   "source": [
    "# Chat model\n",
    "from langchain.chat_models import ChatOpenAI\n",
    "\n",
    "llm = ChatOpenAI(\n",
    "    model_name=OPENAI_MODEL_NAME,\n",
    "    openai_api_base=OPENAI_API_BASE,\n",
    "    openai_api_key=OPENAI_API_KEY,\n",
    "    temperature=0,\n",
    "    model_kwargs={\n",
    "        \"deployment_id\": OPENAI_DEPLOYMENT_ID,\n",
    "        \"api_type\": OPENAI_API_TYPE,\n",
    "        \"api_version\": OPENAI_API_VERSION,\n",
    "    },\n",
    ")"
   ]
  },
  {
   "cell_type": "code",
   "execution_count": 12,
   "id": "8fd1c1d2-2ae0-40b1-b41d-e5cbab9f533e",
   "metadata": {},
   "outputs": [],
   "source": [
    "from langchain.chains import ConversationalRetrievalChain\n",
    "\n",
    "pdf_qa = ConversationalRetrievalChain.from_llm(\n",
    "    llm,\n",
    "    db2.as_retriever(),\n",
    "    return_source_documents=True,\n",
    ")"
   ]
  },
  {
   "cell_type": "code",
   "execution_count": 13,
   "id": "19da489a-50c6-46a4-b54d-33100acc474d",
   "metadata": {},
   "outputs": [
    {
     "data": {
      "text/plain": [
       "'任天堂の創業記念日は1947年11月です。'"
      ]
     },
     "execution_count": 13,
     "metadata": {},
     "output_type": "execute_result"
    }
   ],
   "source": [
    "query = \"任天堂の創業記念日はいつ？\"\n",
    "chat_history = []\n",
    "\n",
    "result = pdf_qa({\"question\": query, \"chat_history\": chat_history})\n",
    "\n",
    "result[\"answer\"]"
   ]
  }
 ],
 "metadata": {
  "kernelspec": {
   "display_name": "Python 3 (ipykernel)",
   "language": "python",
   "name": "python3"
  },
  "language_info": {
   "codemirror_mode": {
    "name": "ipython",
    "version": 3
   },
   "file_extension": ".py",
   "mimetype": "text/x-python",
   "name": "python",
   "nbconvert_exporter": "python",
   "pygments_lexer": "ipython3",
   "version": "3.10.7"
  }
 },
 "nbformat": 4,
 "nbformat_minor": 5
}
