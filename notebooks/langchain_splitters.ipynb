{
 "cells": [
  {
   "cell_type": "markdown",
   "metadata": {},
   "source": [
    "- [Text Split Explorer](https://github.com/langchain-ai/text-split-explorer)"
   ]
  },
  {
   "cell_type": "code",
   "execution_count": 1,
   "metadata": {},
   "outputs": [
    {
     "name": "stdout",
     "output_type": "stream",
     "text": [
      "  % Total    % Received % Xferd  Average Speed   Time    Time     Time  Current\n",
      "                                 Dload  Upload   Total   Spent    Left  Speed\n",
      "100 3318k  100 3318k    0     0  3636k      0 --:--:-- --:--:-- --:--:-- 3634k\n"
     ]
    }
   ],
   "source": [
    "# https://www.mext.go.jp/content/20230704-mxt_shuukyo02-000003278_003.pdf\n",
    "!curl -o ../data/mext.pdf https://www.mext.go.jp/content/20230704-mxt_shuukyo02-000003278_003.pdf"
   ]
  },
  {
   "cell_type": "code",
   "execution_count": 2,
   "metadata": {},
   "outputs": [
    {
     "name": "stdout",
     "output_type": "stream",
     "text": [
      "loaded 16 pages\n"
     ]
    }
   ],
   "source": [
    "from langchain.document_loaders import PyPDFLoader\n",
    "\n",
    "loader = PyPDFLoader(\"../data/mext.pdf\")\n",
    "pages = loader.load()\n",
    "print(f\"loaded {len(pages)} pages\")"
   ]
  },
  {
   "cell_type": "code",
   "execution_count": 3,
   "metadata": {},
   "outputs": [],
   "source": [
    "from langchain.text_splitter import CharacterTextSplitter\n",
    "character_text_splitter = CharacterTextSplitter(\n",
    "    separator = \"\\n\\n\",\n",
    "    chunk_size = 100,\n",
    "    chunk_overlap = 0,\n",
    ")"
   ]
  },
  {
   "cell_type": "code",
   "execution_count": 4,
   "metadata": {},
   "outputs": [],
   "source": [
    "from langchain.text_splitter import RecursiveCharacterTextSplitter\n",
    "\n",
    "length_function = len\n",
    "\n",
    "recursive_character_text_splitter = RecursiveCharacterTextSplitter(\n",
    "    separators=[\"\\n\\n\", \"\\n\", \" \", \"\"],\n",
    "    chunk_size=100, \n",
    "    chunk_overlap=20,\n",
    "    length_function=length_function,\n",
    ")"
   ]
  },
  {
   "cell_type": "code",
   "execution_count": 5,
   "metadata": {},
   "outputs": [],
   "source": [
    "def dump_chunks(text_splitter, content:str):\n",
    "    # print(f\"Original content: {content}\")\n",
    "    chunks = text_splitter.split_text(content)\n",
    "    print(f\"{len(chunks)} chunks created\")\n",
    "    for idx, chunk in enumerate(chunks):\n",
    "        print(f\"{idx+1}\", f\"chunk_size {len(chunk)}\", \"-\"*100)\n",
    "        print(chunk)"
   ]
  },
  {
   "cell_type": "code",
   "execution_count": 6,
   "metadata": {},
   "outputs": [
    {
     "name": "stdout",
     "output_type": "stream",
     "text": [
      "1 chunks created\n",
      "1 chunk_size 976 ----------------------------------------------------------------------------------------------------\n",
      "５文科初第 758号  \n",
      "令和５年７月４日   \n",
      " \n",
      "各都道府県教育委員会教育 長 \n",
      "各指定都市教育委員会教育 長 \n",
      "各都道府県知 事 \n",
      "附属学校を置く各国公立大学長   殿 \n",
      "小中高等学校を設置する学校設置会社を  \n",
      "所轄する構造改革特別区域法第１２ 条 \n",
      "第１項の認定を受けた各地方公共団体の長  \n",
      " \n",
      " \n",
      "文部科学省初等中等教育局長  \n",
      "藤 原 章 夫 \n",
      "  \n",
      " \n",
      "「初等中等教育段階 における生成 AIの利用に関する暫定的なガイドライン」 の \n",
      "作成について（ 通知） \n",
      "  \n",
      "教育現場における生成 AIの利用については様々な議論が あるところですが、 差し当\n",
      "たり文部科学省では 、生成AIに関する政府全体の議論や G7教育大臣会合における認\n",
      "識の共有、 幅広い有識者や、中央教育審議会委員からの意見聴取を経て、 主として対\n",
      "話型の文章生成 AIについて、 学校関係者が 現時点での 活用の適否を判断する際の参考\n",
      "資料として、 別添のとおりガイドライン を取りまとめました。 この中において長期休\n",
      "業中の課題等に ついての考え方も 示しております ので、適切なご対応を お願いします。  \n",
      "本ガイドラインは 令和５年６月末日時点 の知見をもとに暫定的 に取りまとめたもの\n",
      "であり、 今後も「広島AIプロセス」 に基づく様々なルールづくり の進展や、科学的知\n",
      "見の蓄積などを踏まえて 、機動的に改訂を 行うことを予定しています。  \n",
      "なお、今後パイロット 的な取組を実施することなどに よって知 見を蓄積し、事例を\n",
      "お知らせしたいと考えておりますの で御了知願います。  \n",
      "このことについて、各都道府県教育委員 会教育長におかれては、所管の学校及び域\n",
      "内の市（指定都市を除く 。）区町村教育委員会教 育長に対し周知す ると共に、市区町\n",
      "村教育委員会教育長は所管の学校に対しても周知願います。また、 各指定都市教育委\n",
      "員会教育長におかれては、 所管の学校に対し 、各都道府県知事及び 小中高等学校を 設\n",
      "置する学校設置会社を所轄する構造改革 特別区域法第\n",
      "12条第１項の認定を受けた各\n",
      "地方公共団体 の長におかれては、所轄の学校 及び学校法人等 に対し、附属学校を置く\n",
      "各国公立大学法人の 長におかれては、 その管下の学校に対し、 周知願います。\n",
      "12 chunks created\n",
      "1 chunk_size 87 ----------------------------------------------------------------------------------------------------\n",
      "５文科初第 758号  \n",
      "令和５年７月４日   \n",
      " \n",
      "各都道府県教育委員会教育 長 \n",
      "各指定都市教育委員会教育 長 \n",
      "各都道府県知 事 \n",
      "附属学校を置く各国公立大学長   殿\n",
      "2 chunk_size 80 ----------------------------------------------------------------------------------------------------\n",
      "附属学校を置く各国公立大学長   殿 \n",
      "小中高等学校を設置する学校設置会社を  \n",
      "所轄する構造改革特別区域法第１２ 条 \n",
      "第１項の認定を受けた各地方公共団体の長\n",
      "3 chunk_size 82 ----------------------------------------------------------------------------------------------------\n",
      "文部科学省初等中等教育局長  \n",
      "藤 原 章 夫 \n",
      "  \n",
      " \n",
      "「初等中等教育段階 における生成 AIの利用に関する暫定的なガイドライン」 の \n",
      "作成について（ 通知）\n",
      "4 chunk_size 99 ----------------------------------------------------------------------------------------------------\n",
      "作成について（ 通知） \n",
      "  \n",
      "教育現場における生成 AIの利用については様々な議論が あるところですが、 差し当\n",
      "たり文部科学省では 、生成AIに関する政府全体の議論や G7教育大臣会合における認\n",
      "5 chunk_size 84 ----------------------------------------------------------------------------------------------------\n",
      "識の共有、 幅広い有識者や、中央教育審議会委員からの意見聴取を経て、 主として対\n",
      "話型の文章生成 AIについて、 学校関係者が 現時点での 活用の適否を判断する際の参考\n",
      "6 chunk_size 85 ----------------------------------------------------------------------------------------------------\n",
      "資料として、 別添のとおりガイドライン を取りまとめました。 この中において長期休\n",
      "業中の課題等に ついての考え方も 示しております ので、適切なご対応を お願いします。\n",
      "7 chunk_size 83 ----------------------------------------------------------------------------------------------------\n",
      "本ガイドラインは 令和５年６月末日時点 の知見をもとに暫定的 に取りまとめたもの\n",
      "であり、 今後も「広島AIプロセス」 に基づく様々なルールづくり の進展や、科学的知\n",
      "8 chunk_size 77 ----------------------------------------------------------------------------------------------------\n",
      "見の蓄積などを踏まえて 、機動的に改訂を 行うことを予定しています。  \n",
      "なお、今後パイロット 的な取組を実施することなどに よって知 見を蓄積し、事例を\n",
      "9 chunk_size 67 ----------------------------------------------------------------------------------------------------\n",
      "お知らせしたいと考えておりますの で御了知願います。  \n",
      "このことについて、各都道府県教育委員 会教育長におかれては、所管の学校及び域\n",
      "10 chunk_size 81 ----------------------------------------------------------------------------------------------------\n",
      "内の市（指定都市を除く 。）区町村教育委員会教 育長に対し周知す ると共に、市区町\n",
      "村教育委員会教育長は所管の学校に対しても周知願います。また、 各指定都市教育委\n",
      "11 chunk_size 83 ----------------------------------------------------------------------------------------------------\n",
      "員会教育長におかれては、 所管の学校に対し 、各都道府県知事及び 小中高等学校を 設\n",
      "置する学校設置会社を所轄する構造改革 特別区域法第\n",
      "12条第１項の認定を受けた各\n",
      "12 chunk_size 95 ----------------------------------------------------------------------------------------------------\n",
      "12条第１項の認定を受けた各\n",
      "地方公共団体 の長におかれては、所轄の学校 及び学校法人等 に対し、附属学校を置く\n",
      "各国公立大学法人の 長におかれては、 その管下の学校に対し、 周知願います。\n"
     ]
    }
   ],
   "source": [
    "dump_chunks(character_text_splitter, pages[0].page_content)\n",
    "dump_chunks(recursive_character_text_splitter, pages[0].page_content)"
   ]
  },
  {
   "cell_type": "code",
   "execution_count": null,
   "metadata": {},
   "outputs": [],
   "source": []
  }
 ],
 "metadata": {
  "kernelspec": {
   "display_name": "Python 3 (ipykernel)",
   "language": "python",
   "name": "python3"
  },
  "language_info": {
   "codemirror_mode": {
    "name": "ipython",
    "version": 3
   },
   "file_extension": ".py",
   "mimetype": "text/x-python",
   "name": "python",
   "nbconvert_exporter": "python",
   "pygments_lexer": "ipython3",
   "version": "3.10.7"
  }
 },
 "nbformat": 4,
 "nbformat_minor": 4
}
