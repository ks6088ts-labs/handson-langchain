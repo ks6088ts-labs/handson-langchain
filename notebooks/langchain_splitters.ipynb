{
 "cells": [
  {
   "cell_type": "markdown",
   "metadata": {},
   "source": [
    "- [Text Split Explorer](https://github.com/langchain-ai/text-split-explorer)"
   ]
  },
  {
   "cell_type": "code",
   "execution_count": 1,
   "metadata": {},
   "outputs": [
    {
     "name": "stdout",
     "output_type": "stream",
     "text": [
      "  % Total    % Received % Xferd  Average Speed   Time    Time     Time  Current\n",
      "                                 Dload  Upload   Total   Spent    Left  Speed\n",
      "100 3318k  100 3318k    0     0  5814k      0 --:--:-- --:--:-- --:--:-- 5852k\n"
     ]
    }
   ],
   "source": [
    "# https://www.mext.go.jp/content/20230704-mxt_shuukyo02-000003278_003.pdf\n",
    "!curl -o ../data/mext.pdf https://www.mext.go.jp/content/20230704-mxt_shuukyo02-000003278_003.pdf"
   ]
  },
  {
   "cell_type": "code",
   "execution_count": 2,
   "metadata": {},
   "outputs": [
    {
     "name": "stdout",
     "output_type": "stream",
     "text": [
      "loaded 16 pages\n"
     ]
    }
   ],
   "source": [
    "from langchain.document_loaders import PyPDFLoader\n",
    "\n",
    "loader = PyPDFLoader(\"../data/mext.pdf\")\n",
    "pages = loader.load()\n",
    "print(f\"loaded {len(pages)} pages\")"
   ]
  },
  {
   "cell_type": "code",
   "execution_count": 3,
   "metadata": {},
   "outputs": [],
   "source": [
    "from langchain.text_splitter import CharacterTextSplitter\n",
    "character_text_splitter = CharacterTextSplitter(\n",
    "    separator = \"\\n\\n\",\n",
    "    chunk_size = 100,\n",
    "    chunk_overlap = 0,\n",
    ")"
   ]
  },
  {
   "cell_type": "code",
   "execution_count": 4,
   "metadata": {},
   "outputs": [],
   "source": [
    "from langchain.text_splitter import RecursiveCharacterTextSplitter\n",
    "\n",
    "length_function = len\n",
    "\n",
    "recursive_character_text_splitter = RecursiveCharacterTextSplitter(\n",
    "    separators=[\"\\n\\n\", \"\\n\", \" \", \"\"],\n",
    "    chunk_size=100, \n",
    "    chunk_overlap=20,\n",
    "    length_function=length_function,\n",
    ")"
   ]
  },
  {
   "cell_type": "code",
   "execution_count": 5,
   "metadata": {},
   "outputs": [],
   "source": [
    "from langchain.text_splitter import SpacyTextSplitter\n",
    "\n",
    "spacy_text_splitter = SpacyTextSplitter(\n",
    "    chunk_size=600,\n",
    "    pipeline=\"ja_core_news_sm\" # Run this to install corpus `$ poetry run python -m spacy download ja_core_news_sm`\n",
    ")"
   ]
  },
  {
   "cell_type": "code",
   "execution_count": 6,
   "metadata": {},
   "outputs": [],
   "source": [
    "def dump_chunks(text_splitter, content:str):\n",
    "    # print(f\"Original content: {content}\")\n",
    "    chunks = text_splitter.split_text(content)\n",
    "    print(f\"{len(chunks)} chunks created\")\n",
    "    for idx, chunk in enumerate(chunks):\n",
    "        print(f\"{idx+1}\", f\"chunk_size {len(chunk)}\", \"-\"*100)\n",
    "        print(chunk[:100].replace(\"\\n\", \"\"))"
   ]
  },
  {
   "cell_type": "code",
   "execution_count": 7,
   "metadata": {},
   "outputs": [
    {
     "name": "stdout",
     "output_type": "stream",
     "text": [
      "2 chunks created\n",
      "1 chunk_size 498 ----------------------------------------------------------------------------------------------------\n",
      "５文科初第 758号  令和５年７月４日    各都道府県教育委員会教育 長 各指定都市教育委員会教育 長 各都道府県知 事 附属学校を置く各国公立大学長   殿 小中高等学校を設置する\n",
      "2 chunk_size 544 ----------------------------------------------------------------------------------------------------\n",
      "この中において長期休業中の課題等に ついての考え方も 示しております ので、適切なご対応を お願いします。 本ガイドラインは 令和５年６月末日時点 の知見をもとに暫定的 に取りまとめたもの\n"
     ]
    }
   ],
   "source": [
    "# dump_chunks(character_text_splitter, pages[0].page_content)\n",
    "# dump_chunks(recursive_character_text_splitter, pages[0].page_content)\n",
    "dump_chunks(spacy_text_splitter, pages[0].page_content)"
   ]
  },
  {
   "cell_type": "code",
   "execution_count": null,
   "metadata": {},
   "outputs": [],
   "source": []
  }
 ],
 "metadata": {
  "kernelspec": {
   "display_name": "Python 3 (ipykernel)",
   "language": "python",
   "name": "python3"
  },
  "language_info": {
   "codemirror_mode": {
    "name": "ipython",
    "version": 3
   },
   "file_extension": ".py",
   "mimetype": "text/x-python",
   "name": "python",
   "nbconvert_exporter": "python",
   "pygments_lexer": "ipython3",
   "version": "3.10.7"
  }
 },
 "nbformat": 4,
 "nbformat_minor": 4
}
